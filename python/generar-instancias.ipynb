{
 "cells": [
  {
   "cell_type": "markdown",
   "metadata": {},
   "source": [
    "# Generador de instancias\n",
    "En este notebook está el código para generar los sets de instancias que se usan para experimentar.\n",
    "- Estas instancias van a ser guardadas en la carpeta __instancias__.\n",
    "- Cada set estará en su propia carpeta y tendrá un archivo _indice.csv_ que contendrá información sobre las instancias."
   ]
  },
  {
   "cell_type": "code",
   "execution_count": 1,
   "metadata": {},
   "outputs": [],
   "source": [
    "import random, math\n",
    "import pandas as pd"
   ]
  },
  {
   "cell_type": "code",
   "execution_count": 2,
   "metadata": {},
   "outputs": [],
   "source": [
    "def save_instance(dataset, instance_name, B, S, W):\n",
    "    with open(F\"instancias/{dataset}/{instance_name}.txt\", \"w\") as f:\n",
    "        print(len(S), W, file=f) #LONGITUD-RIESGOTOTAL\n",
    "        for s in S: # Leo riesgos.\n",
    "            print(s, file=f, end=\" \")\n",
    "        print(\"\", file=f)\n",
    "        for b in B: # Leo beneficios.\n",
    "            print(b, file=f, end=\" \")\n",
    "\n",
    "def save_index(dataset, instances):\n",
    "    with open(F\"instancias/{dataset}/instances.txt\", \"w\") as f:\n",
    "        for instance in instances: \n",
    "            print(instance, file=f)"
   ]
  },
  {
   "cell_type": "markdown",
   "metadata": {},
   "source": [
    "## Dataset 1\n",
    "Instancias de mejor caso de backtracking, están descriptas en el informe en más detalle.\n",
    "```\n",
    "\n",
    "B = [0,...,0]\n",
    "R = [W+1, ..., W+1]\n",
    "```\n"
   ]
  },
  {
   "cell_type": "code",
   "execution_count": 3,
   "metadata": {},
   "outputs": [],
   "source": [
    "filas_indice = []\n",
    "for i in range(1, 500):\n",
    "    n = i * 10\n",
    "    W = 1000\n",
    "    S = [W+1 for i in range(0, n)]\n",
    "    B = [1 for i in range(0,n)]\n",
    "    save_instance(\"mejor-caso-bt\", F\"BT-MC-{n}\",B, S, W)\n",
    "    filas_indice.append([\"mejor-caso-bt\", F\"BT-MC-{n}\", n, W, F\"instancias/mejor-caso-bt/BT-MC-{n}.txt\"])\n",
    "pd.DataFrame(filas_indice, columns=[\"dataset\", \"instancia\", \"n\", \"W\", \"archivo\"]).to_csv(\"instancias/mejor-caso-bt/indice.csv\", index=False, header=True)"
   ]
  },
  {
   "cell_type": "markdown",
   "metadata": {},
   "source": [
    "## Dataset 2\n",
    "Instancias de peor caso de backtracking, están descriptas en el informe en más detalle.\n",
    "```\n",
    "S = {1,...,W+1} con W = n\n",
    "B = [0,...,1]\n",
    "```\n"
   ]
  },
  {
   "cell_type": "code",
   "execution_count": 4,
   "metadata": {},
   "outputs": [],
   "source": [
    "filas_indice = []\n",
    "for n in range(1, 31):\n",
    "    W = n\n",
    "    S = [1 for i in range(0, n)]\n",
    "    S[-1] = W+1\n",
    "    B = [0 for i in range(0,n)]\n",
    "    B[-1] = 1\n",
    "    save_instance(\"peor-caso-bt\", F\"BT-PC-{n}\",B, S, W)\n",
    "    filas_indice.append([\"peor-caso-bt\", F\"BT-PC-{n}\", n, W, F\"instancias/peor-caso-bt/BT-PC-{n}.txt\"])\n",
    "pd.DataFrame(filas_indice, columns=[\"dataset\", \"instancia\", \"n\", \"W\", \"archivo\"]).to_csv(\"instancias/peor-caso-bt/indice.csv\", index=False, header=True)"
   ]
  },
  {
   "cell_type": "markdown",
   "metadata": {},
   "source": [
    "## Dataset 3\n",
    "Instancias con densidad alta:\n",
    "```\n",
    "S = { 1, ..., n } con W = n/2\n",
    "```"
   ]
  },
  {
   "cell_type": "code",
   "execution_count": 5,
   "metadata": {},
   "outputs": [],
   "source": [
    "filas_indice = []\n",
    "for n in range(1, 201):\n",
    "    \n",
    "    W = math.floor(n/2) #RiesgoTotal\n",
    "    B = [1 for i in range(0,n)] #Serian los Beneficios. Todos iguales, no cambia en nada.\n",
    "    \n",
    "    S = [0 for i in range(0, n)] #Serian los Riesgos\n",
    "    for i in range(0, n): S[i] = i+1 # Coloco los digitos \n",
    "    random.shuffle(S) #mezclo todo\n",
    "    \n",
    "    save_instance(\"densidad-alta\", F\"ALTA-{n}\", B, S, W) # Guarda la instancia en un archivo nuevo.\n",
    "    \n",
    "    # Genera un CSV.\n",
    "    filas_indice.append([\"densidad-alta\", F\"ALTA-{n}\", n, W, F\"instancias/densidad-alta/ALTA-{n}.txt\"])\n",
    "    pd.DataFrame(filas_indice, columns=[\"dataset\", \"instancia\", \"n\", \"W\", \"archivo\"]).to_csv(\"instancias/densidad-alta/indice.csv\", index=False, header=True)"
   ]
  },
  {
   "cell_type": "markdown",
   "metadata": {},
   "source": [
    "## Dataset 4\n",
    "Instancias con densidad baja:\n",
    "\n",
    "S = { 1, ..., n } con W = $\\frac{n \\cdot (n - 1)}{4} $\n"
   ]
  },
  {
   "cell_type": "code",
   "execution_count": 6,
   "metadata": {},
   "outputs": [],
   "source": [
    "filas_indice = []\n",
    "for n in range(1, 201):\n",
    "    W = max(1, math.floor(n * (n-1) / 4))\n",
    "    B = [1 for i in range(0,n)]  #Serian los Beneficios. Todos iguales, no cambia en nada.\n",
    "    S = [0 for i in range(0, n)]\n",
    "    for i in range(0, n): S[i] = i+1\n",
    "    random.shuffle(S)\n",
    "    save_instance(\"densidad-baja\", F\"BAJA-{n}\", B, S, W)\n",
    "    filas_indice.append([\"densidad-baja\", F\"BAJA-{n}\", n, W, F\"instancias/densidad-baja/BAJA-{n}.txt\"])\n",
    "pd.DataFrame(filas_indice, columns=[\"dataset\", \"instancia\", \"n\", \"W\", \"archivo\"]).to_csv(\"instancias/densidad-baja/indice.csv\", index=False, header=True)"
   ]
  },
  {
   "cell_type": "markdown",
   "metadata": {},
   "source": [
    "# Dataset 5\n",
    "Instancias variando n y W con densidad baja.\n",
    "\n",
    "vario la cantiad de tiendas y el riesgo total\n",
    "con una densidad baja de riesgos\n",
    "y beneficios  <- Ver Porq no esta dando muy claro O(N w)"
   ]
  },
  {
   "cell_type": "code",
   "execution_count": 8,
   "metadata": {},
   "outputs": [],
   "source": [
    "filas_indice = []\n",
    "for n in range(1000, 8000, 500):\n",
    "    for W in range(1000, 8000, 500):\n",
    "        #los beneficios y riesgos son una permutacion de los numeros 1....n.\n",
    "        S = [0 for i in range(0,n)] \n",
    "        B = [0 for i in range(0,n)]\n",
    "        for i in range(0,n) : \n",
    "            B[i] = i\n",
    "            S[i] = i\n",
    "        random.shuffle(B)\n",
    "        random.shuffle(S)\n",
    "        save_instance(\"dinamica\", F\"DP-{n}-{W}\", B, S, W)\n",
    "        filas_indice.append([\"dinamica\", F\"DP-{n}-{W}\", n, W, F\"instancias/dinamica/DP-{n}-{W}.txt\"])\n",
    "pd.DataFrame(filas_indice, columns=[\"dataset\", \"instancia\", \"n\", \"W\", \"archivo\"]).to_csv(\"instancias/dinamica/indice.csv\", index=False, header=True)"
   ]
  },
  {
   "cell_type": "markdown",
   "metadata": {},
   "source": [
    "# Dataset 6\n",
    "\n",
    "Para probar la efectividad de podas, vamos a generar dataset con:\n",
    "* densidad alta y baja de riesgos\n",
    "* densidad alta y baja de beneficios"
   ]
  },
  {
   "cell_type": "code",
   "execution_count": 9,
   "metadata": {},
   "outputs": [],
   "source": [
    "def oneOrAHundred():\n",
    "    if bool(random.getrandbits(1)):\n",
    "        return(100)\n",
    "    else:\n",
    "        return(1)\n",
    "\n",
    "filas_indice = []\n",
    "for n in range(1, 46):\n",
    "    highDensityRiskLimit = max(1, math.floor(n/2))\n",
    "    lowDensityRiskLimit = max(1, math.floor(n*(n-1)/4))\n",
    "    equalBenefits = [1 for i in range(0,n)]\n",
    "    unequalBenefits = [oneOrAHundred() for i in range(0,n)]\n",
    "    risks = [i + 1 for i in range(0, n)]\n",
    "    random.shuffle(risks)\n",
    "    #Densidad de riesgo alta - mismos beneficios\n",
    "    save_instance(\"podas-BT\", F\"RiesgoAlto-IgualBeneficios-{n}\", equalBenefits, risks, highDensityRiskLimit)\n",
    "    filas_indice.append([\"podas-BT\", F\"RiesgoAlto-IgualBeneficios-{n}\", n, highDensityRiskLimit, F\"instancias/podas-BT/RiesgoAlto-IgualBeneficios-{n}.txt\"])\n",
    "    #Densidad de riesgo alta - beneficios desiguales\n",
    "    save_instance(\"podas-BT\", F\"RiesgoAlto-BeneficiosDesiguales-{n}\", unequalBenefits, risks, highDensityRiskLimit)\n",
    "    filas_indice.append([\"podas-BT\", F\"RiesgoAlto-BeneficiosDesiguales-{n}\", n, highDensityRiskLimit, F\"instancias/podas-BT/RiesgoAlto-BeneficiosDesiguales-{n}.txt\"])\n",
    "    #Densidad de riesgo baja - mismos beneficios\n",
    "    save_instance(\"podas-BT\", F\"RiesgoBajo-IgualBeneficios-{n}\", equalBenefits, risks, lowDensityRiskLimit)\n",
    "    filas_indice.append([\"podas-BT\", F\"RiesgoBajo-IgualBeneficios-{n}\", n, lowDensityRiskLimit, F\"instancias/podas-BT/RiesgoBajo-IgualBeneficios-{n}.txt\"])\n",
    "    #Densidad de riesgo baja - beneficios desiguales\n",
    "    save_instance(\"podas-BT\", F\"RiesgoBajo-BeneficiosDesiguales-{n}\", unequalBenefits, risks, lowDensityRiskLimit)\n",
    "    filas_indice.append([\"podas-BT\", F\"RiesgoBajo-BeneficiosDesiguales-{n}\", n, lowDensityRiskLimit, F\"instancias/podas-BT/RiesgoBajo-BeneficiosDesiguales-{n}.txt\"])\n",
    "    \n",
    "pd.DataFrame(filas_indice, columns=[\"dataset\", \"instancia\", \"n\", \"W\", \"archivo\"]).to_csv(\"instancias/podas-BT/indice.csv\", index=False, header=True)"
   ]
  },
  {
   "cell_type": "markdown",
   "metadata": {},
   "source": [
    "# Dataset 7\n",
    "\n",
    "Para comparar backtracking y progrmación dinámica, vamos a generar dataset con densidades altas y bajas"
   ]
  },
  {
   "cell_type": "code",
   "execution_count": 10,
   "metadata": {},
   "outputs": [],
   "source": [
    "filas_indice = []\n",
    "for n in range(1, 46):\n",
    "    highDensityRiskLimit = max(1, math.floor(n/2))\n",
    "    lowDensityRiskLimit = max(1, math.floor(n*(n-1)/4))\n",
    "    equalBenefits = [1 for i in range(0,n)]\n",
    "    risks = [i + 1 for i in range(0, n)]\n",
    "    #Densidad de riesgo alta - mismos beneficios\n",
    "    save_instance(\"BTvsPD\", F\"DensidadAlta-{n}\", equalBenefits, risks, highDensityRiskLimit)\n",
    "    filas_indice.append([\"BTvsPD\", F\"DensidadAlta-{n}\", n, highDensityRiskLimit, F\"instancias/BTvsPD/DensidadAlta-{n}.txt\"])\n",
    "    #Densidad de riesgo baja -mismos beneficios\n",
    "    save_instance(\"BTvsPD\", F\"DensidadBaja-{n}\", equalBenefits, risks, lowDensityRiskLimit)\n",
    "    filas_indice.append([\"BTvsPD\", F\"DensidadBaja-{n}\", n, highDensityRiskLimit, F\"instancias/BTvsPD/DensidadBaja-{n}.txt\"])\n",
    "pd.DataFrame(filas_indice, columns=[\"dataset\", \"instancia\", \"n\", \"W\", \"archivo\"]).to_csv(\"instancias/BTvsPD/indice.csv\", index=False, header=True)"
   ]
  },
  {
   "cell_type": "code",
   "execution_count": null,
   "metadata": {},
   "outputs": [],
   "source": []
  }
 ],
 "metadata": {
  "kernelspec": {
   "display_name": "Python 3",
   "language": "python",
   "name": "python3"
  },
  "language_info": {
   "codemirror_mode": {
    "name": "ipython",
    "version": 3
   },
   "file_extension": ".py",
   "mimetype": "text/x-python",
   "name": "python",
   "nbconvert_exporter": "python",
   "pygments_lexer": "ipython3",
   "version": "3.7.9"
  }
 },
 "nbformat": 4,
 "nbformat_minor": 4
}
