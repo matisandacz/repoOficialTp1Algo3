{
 "cells": [
  {
   "cell_type": "markdown",
   "metadata": {},
   "source": [
    "# Correr experimentos\n",
    "En este archivo está el código para correr los experimentos y escribir los resultados en archivos CSV.\n",
    "> Los archivos se guardan en la carpeta _resultados_."
   ]
  },
  {
   "cell_type": "code",
   "execution_count": 19,
   "metadata": {},
   "outputs": [],
   "source": [
    "import math, subprocess\n",
    "import pandas as pd\n",
    "import numpy as np\n",
    "from IPython.display import display, clear_output"
   ]
  },
  {
   "cell_type": "markdown",
   "metadata": {},
   "source": [
    "A continuación leemos los datasets en dataframes de Pandas."
   ]
  },
  {
   "cell_type": "code",
   "execution_count": 20,
   "metadata": {},
   "outputs": [],
   "source": [
    "def leer_instancia(path_instancia):\n",
    "    with open(path_instancia, \"r\") as f:\n",
    "        return f.read();\n",
    "\n",
    "#df_densidad_alta = pd.read_csv(\"instancias/densidad-alta/indice.csv\");\n",
    "#df_densidad_baja = pd.read_csv(\"instancias/densidad-baja/indice.csv\");\n",
    "df_mejor_caso_bt = pd.read_csv(\"instancias/mejor-caso-bt/indice.csv\");\n",
    "#df_peor_caso_bt = pd.read_csv(\"instancias/peor-caso-bt/indice.csv\");\n",
    "#df_dinamica = pd.read_csv(\"instancias/dinamica/indice.csv\");"
   ]
  },
  {
   "cell_type": "markdown",
   "metadata": {},
   "source": [
    "La siguiente función sirve para correr el código sobre una instancia ejecutando un método en particular.\n",
    "- FB: Fuerza bruta\n",
    "- BT: Backtracking con ambas podas.\n",
    "- BT-F: Backtracking solamente con poda por factibilidad.\n",
    "- BT-O: Backtracking solamente con poda por optimalidad.\n",
    "- DP: Programación dinámica."
   ]
  },
  {
   "cell_type": "code",
   "execution_count": 21,
   "metadata": {},
   "outputs": [],
   "source": [
    "# Devuelve el tiempo de ejecucion\n",
    "def correr_experimento(metodo, archivo_instancia): #archivo_instancia es el PATH al test.\n",
    "    # Leer archivo de la instancia.\n",
    "    instancia = leer_instancia(archivo_instancia)\n",
    "    \n",
    "    # Crear proceso para ejecutar el codigo.\n",
    "    process = subprocess.Popen([\"../social_distancing\", metodo], stderr=subprocess.PIPE, stdout=subprocess.PIPE, stdin=subprocess.PIPE, universal_newlines = True)\n",
    "\n",
    "    # Poner la instancia en la entrada estandar. OKEY. ACA. \n",
    "    process.stdin.write(instancia)\n",
    "    process.stdin.flush()\n",
    "\n",
    "    # Correr experimento.\n",
    "    exit_code = process.wait()\n",
    "\n",
    "    # Verificar que el proceso no fallo.\n",
    "    if exit_code != 0: raise(F\"Hubo un error en la experimentacion para el algoritmo: {algoritmo} con la instancia {archivo_instancia}.\")\n",
    "    # Leer salida de STDERR con los tiempos de ejecucion de cada metodo.\n",
    "    tiempo_de_ejecucion = float(process.stderr.read());\n",
    "    \n",
    "    process.stdin.close();\n",
    "    process.stdout.close();\n",
    "    process.stderr.close();\n",
    "    \n",
    "    return tiempo_de_ejecucion;"
   ]
  },
  {
   "cell_type": "markdown",
   "metadata": {},
   "source": [
    "## Corremos los experimentos\n",
    "Vamos a guardar una tabla con las ejecuciones y sus respectivos tiempos."
   ]
  },
  {
   "cell_type": "code",
   "execution_count": 22,
   "metadata": {},
   "outputs": [],
   "source": [
    "experimentos = [];"
   ]
  },
  {
   "cell_type": "markdown",
   "metadata": {},
   "source": [
    "### Experimento 1\n",
    "Correr Fuerza Bruta en las primeras 30 instancias de densidad-alta y densidad-baja.\n",
    "\n",
    "Mio: Correr FB de la instancia 30 a la 60 de ambas densidades."
   ]
  },
  {
   "cell_type": "code",
   "execution_count": 11,
   "metadata": {},
   "outputs": [],
   "source": [
    "for n in range(10, 35):\n",
    "    fila_n = df_densidad_alta.iloc[n];\n",
    "    experimentos.append([fila_n[\"dataset\"], n, fila_n[\"W\"], \"FB\", fila_n[\"archivo\"]]);\n",
    "\n",
    "for n in range(10, 35):\n",
    "    fila_n = df_densidad_baja.iloc[n];\n",
    "    experimentos.append([fila_n[\"dataset\"], n, fila_n[\"W\"], \"FB\", fila_n[\"archivo\"]]);"
   ]
  },
  {
   "cell_type": "markdown",
   "metadata": {},
   "source": [
    "## Experimento 2\n",
    "Correr BT para mejor y peor caso."
   ]
  },
  {
   "cell_type": "code",
   "execution_count": 23,
   "metadata": {},
   "outputs": [],
   "source": [
    "for n in range(0, df_mejor_caso_bt.shape[0]):\n",
    "    fila_n = df_mejor_caso_bt.iloc[n];\n",
    "    experimentos.append([fila_n[\"dataset\"], n, fila_n[\"W\"], \"BT\", fila_n[\"archivo\"]]);\n",
    "\n",
    "#for n in range(0, df_peor_caso_bt.shape[0]):\n",
    " #   fila_n = df_peor_caso_bt.iloc[n];\n",
    "  #  experimentos.append([fila_n[\"dataset\"], n, fila_n[\"W\"], \"BT\", fila_n[\"archivo\"]]);"
   ]
  },
  {
   "cell_type": "markdown",
   "metadata": {},
   "source": [
    "## Experimento 3\n",
    "Correr BT, BT-F, BT-O para densidad alta y baja."
   ]
  },
  {
   "cell_type": "code",
   "execution_count": null,
   "metadata": {},
   "outputs": [],
   "source": [
    "for n in range(0, df_densidad_alta.shape[0]):\n",
    "    fila_n = df_densidad_alta.iloc[n];\n",
    "    experimentos.append([fila_n[\"dataset\"], n, fila_n[\"W\"], \"BT\", fila_n[\"archivo\"]]);\n",
    "    experimentos.append([fila_n[\"dataset\"], n, fila_n[\"W\"], \"BT-F\", fila_n[\"archivo\"]]);\n",
    "    experimentos.append([fila_n[\"dataset\"], n, fila_n[\"W\"], \"BT-O\", fila_n[\"archivo\"]]);\n",
    "\n",
    "for n in range(0, 30):\n",
    "    fila_n = df_densidad_baja.iloc[n];\n",
    "    experimentos.append([fila_n[\"dataset\"], n, fila_n[\"W\"], \"BT\", fila_n[\"archivo\"]]);\n",
    "    experimentos.append([fila_n[\"dataset\"], n, fila_n[\"W\"], \"BT-F\", fila_n[\"archivo\"]]);\n",
    "    experimentos.append([fila_n[\"dataset\"], n, fila_n[\"W\"], \"BT-O\", fila_n[\"archivo\"]]);"
   ]
  },
  {
   "cell_type": "markdown",
   "metadata": {},
   "source": [
    "# Experimento 4\n",
    "Correr DP para el dataset _dinamica_."
   ]
  },
  {
   "cell_type": "code",
   "execution_count": 22,
   "metadata": {},
   "outputs": [],
   "source": [
    "for i in range(0, df_dinamica.shape[0]):\n",
    "    fila = df_dinamica.iloc[i];\n",
    "    experimentos.append([fila[\"dataset\"], fila[\"n\"], fila[\"W\"], \"DP\", fila[\"archivo\"]]);"
   ]
  },
  {
   "cell_type": "markdown",
   "metadata": {},
   "source": [
    "## Experimento 5\n",
    "Correr DP para el dataset densidad-alta y densidad-baja."
   ]
  },
  {
   "cell_type": "code",
   "execution_count": null,
   "metadata": {},
   "outputs": [],
   "source": [
    "for i in range(0, df_densidad_alta.shape[0]):\n",
    "    fila = df_densidad_alta.iloc[i];\n",
    "    experimentos.append([fila[\"dataset\"], fila[\"n\"], fila[\"W\"], \"DP\", fila[\"archivo\"]]);\n",
    "\n",
    "#for i in range(0, df_densidad_baja.shape[0]):\n",
    "  #  fila = df_densidad_baja.iloc[i];\n",
    "   # experimentos.append([fila[\"dataset\"], fila[\"n\"], fila[\"W\"], \"DP\", fila[\"archivo\"]]);"
   ]
  },
  {
   "cell_type": "markdown",
   "metadata": {},
   "source": [
    "## Ejecutar los experimentos y guardar los resultados en un archivo CSV.\n",
    "Este paso puede tardar unos minutos hasta terminar de ejecutarse."
   ]
  },
  {
   "cell_type": "code",
   "execution_count": 24,
   "metadata": {},
   "outputs": [
    {
     "data": {
      "text/plain": [
       "'Experimento: 499/499'"
      ]
     },
     "metadata": {},
     "output_type": "display_data"
    },
    {
     "name": "stdout",
     "output_type": "stream",
     "text": [
      "[['mejor-caso-bt', 0, 1000, 'BT', 0.0017], ['mejor-caso-bt', 1, 1000, 'BT', 0.0021], ['mejor-caso-bt', 2, 1000, 'BT', 0.0024], ['mejor-caso-bt', 3, 1000, 'BT', 0.0027], ['mejor-caso-bt', 4, 1000, 'BT', 0.003], ['mejor-caso-bt', 5, 1000, 'BT', 0.0032], ['mejor-caso-bt', 6, 1000, 'BT', 0.0035], ['mejor-caso-bt', 7, 1000, 'BT', 0.0055], ['mejor-caso-bt', 8, 1000, 'BT', 0.0041], ['mejor-caso-bt', 9, 1000, 'BT', 0.0043], ['mejor-caso-bt', 10, 1000, 'BT', 0.0045], ['mejor-caso-bt', 11, 1000, 'BT', 0.0046], ['mejor-caso-bt', 12, 1000, 'BT', 0.0052], ['mejor-caso-bt', 13, 1000, 'BT', 0.0054], ['mejor-caso-bt', 14, 1000, 'BT', 0.0058], ['mejor-caso-bt', 15, 1000, 'BT', 0.0067], ['mejor-caso-bt', 16, 1000, 'BT', 0.0062], ['mejor-caso-bt', 17, 1000, 'BT', 0.0068], ['mejor-caso-bt', 18, 1000, 'BT', 0.0069], ['mejor-caso-bt', 19, 1000, 'BT', 0.0073], ['mejor-caso-bt', 20, 1000, 'BT', 0.0079], ['mejor-caso-bt', 21, 1000, 'BT', 0.0076], ['mejor-caso-bt', 22, 1000, 'BT', 0.008], ['mejor-caso-bt', 23, 1000, 'BT', 0.0082], ['mejor-caso-bt', 24, 1000, 'BT', 0.014], ['mejor-caso-bt', 25, 1000, 'BT', 0.0144], ['mejor-caso-bt', 26, 1000, 'BT', 0.019], ['mejor-caso-bt', 27, 1000, 'BT', 0.0184], ['mejor-caso-bt', 28, 1000, 'BT', 0.0185], ['mejor-caso-bt', 29, 1000, 'BT', 0.0222], ['mejor-caso-bt', 30, 1000, 'BT', 0.0228], ['mejor-caso-bt', 31, 1000, 'BT', 0.0185], ['mejor-caso-bt', 32, 1000, 'BT', 0.0191], ['mejor-caso-bt', 33, 1000, 'BT', 0.0201], ['mejor-caso-bt', 34, 1000, 'BT', 0.0247], ['mejor-caso-bt', 35, 1000, 'BT', 0.0248], ['mejor-caso-bt', 36, 1000, 'BT', 0.0258], ['mejor-caso-bt', 37, 1000, 'BT', 0.0251], ['mejor-caso-bt', 38, 1000, 'BT', 0.0252], ['mejor-caso-bt', 39, 1000, 'BT', 0.0281], ['mejor-caso-bt', 40, 1000, 'BT', 0.03], ['mejor-caso-bt', 41, 1000, 'BT', 0.0306], ['mejor-caso-bt', 42, 1000, 'BT', 0.0306], ['mejor-caso-bt', 43, 1000, 'BT', 0.0303], ['mejor-caso-bt', 44, 1000, 'BT', 0.0337], ['mejor-caso-bt', 45, 1000, 'BT', 0.0336], ['mejor-caso-bt', 46, 1000, 'BT', 0.0352], ['mejor-caso-bt', 47, 1000, 'BT', 0.0346], ['mejor-caso-bt', 48, 1000, 'BT', 0.0346], ['mejor-caso-bt', 49, 1000, 'BT', 0.0398], ['mejor-caso-bt', 50, 1000, 'BT', 0.0427], ['mejor-caso-bt', 51, 1000, 'BT', 0.0387], ['mejor-caso-bt', 52, 1000, 'BT', 0.04], ['mejor-caso-bt', 53, 1000, 'BT', 0.0408], ['mejor-caso-bt', 54, 1000, 'BT', 0.0441], ['mejor-caso-bt', 55, 1000, 'BT', 0.0436], ['mejor-caso-bt', 56, 1000, 'BT', 0.0436], ['mejor-caso-bt', 57, 1000, 'BT', 0.0439], ['mejor-caso-bt', 58, 1000, 'BT', 0.0453], ['mejor-caso-bt', 59, 1000, 'BT', 0.0519], ['mejor-caso-bt', 60, 1000, 'BT', 0.0509], ['mejor-caso-bt', 61, 1000, 'BT', 0.0494], ['mejor-caso-bt', 62, 1000, 'BT', 0.0498], ['mejor-caso-bt', 63, 1000, 'BT', 0.0493], ['mejor-caso-bt', 64, 1000, 'BT', 0.0535], ['mejor-caso-bt', 65, 1000, 'BT', 0.053], ['mejor-caso-bt', 66, 1000, 'BT', 0.053], ['mejor-caso-bt', 67, 1000, 'BT', 0.0534], ['mejor-caso-bt', 68, 1000, 'BT', 0.0529], ['mejor-caso-bt', 69, 1000, 'BT', 0.0535], ['mejor-caso-bt', 70, 1000, 'BT', 0.0575], ['mejor-caso-bt', 71, 1000, 'BT', 0.0564], ['mejor-caso-bt', 72, 1000, 'BT', 0.058], ['mejor-caso-bt', 73, 1000, 'BT', 0.0584], ['mejor-caso-bt', 74, 1000, 'BT', 0.0595], ['mejor-caso-bt', 75, 1000, 'BT', 0.0683], ['mejor-caso-bt', 76, 1000, 'BT', 0.065], ['mejor-caso-bt', 77, 1000, 'BT', 0.0651], ['mejor-caso-bt', 78, 1000, 'BT', 0.0663], ['mejor-caso-bt', 79, 1000, 'BT', 0.0658], ['mejor-caso-bt', 80, 1000, 'BT', 0.0697], ['mejor-caso-bt', 81, 1000, 'BT', 0.0721], ['mejor-caso-bt', 82, 1000, 'BT', 0.0708], ['mejor-caso-bt', 83, 1000, 'BT', 0.0708], ['mejor-caso-bt', 84, 1000, 'BT', 0.0705], ['mejor-caso-bt', 85, 1000, 'BT', 0.0745], ['mejor-caso-bt', 86, 1000, 'BT', 0.0776], ['mejor-caso-bt', 87, 1000, 'BT', 0.0795], ['mejor-caso-bt', 88, 1000, 'BT', 0.0941], ['mejor-caso-bt', 89, 1000, 'BT', 0.0813], ['mejor-caso-bt', 90, 1000, 'BT', 0.0834], ['mejor-caso-bt', 91, 1000, 'BT', 0.0834], ['mejor-caso-bt', 92, 1000, 'BT', 0.0832], ['mejor-caso-bt', 93, 1000, 'BT', 0.083], ['mejor-caso-bt', 94, 1000, 'BT', 0.0831], ['mejor-caso-bt', 95, 1000, 'BT', 0.0883], ['mejor-caso-bt', 96, 1000, 'BT', 0.0909], ['mejor-caso-bt', 97, 1000, 'BT', 0.0883], ['mejor-caso-bt', 98, 1000, 'BT', 0.0871], ['mejor-caso-bt', 99, 1000, 'BT', 0.0911], ['mejor-caso-bt', 100, 1000, 'BT', 0.0897], ['mejor-caso-bt', 101, 1000, 'BT', 0.0907], ['mejor-caso-bt', 102, 1000, 'BT', 0.0905], ['mejor-caso-bt', 103, 1000, 'BT', 0.091], ['mejor-caso-bt', 104, 1000, 'BT', 0.091], ['mejor-caso-bt', 105, 1000, 'BT', 0.0963], ['mejor-caso-bt', 106, 1000, 'BT', 0.0959], ['mejor-caso-bt', 107, 1000, 'BT', 0.0986], ['mejor-caso-bt', 108, 1000, 'BT', 0.0995], ['mejor-caso-bt', 109, 1000, 'BT', 0.097], ['mejor-caso-bt', 110, 1000, 'BT', 0.0967], ['mejor-caso-bt', 111, 1000, 'BT', 0.1039], ['mejor-caso-bt', 112, 1000, 'BT', 0.1049], ['mejor-caso-bt', 113, 1000, 'BT', 0.1079], ['mejor-caso-bt', 114, 1000, 'BT', 0.109], ['mejor-caso-bt', 115, 1000, 'BT', 0.1074], ['mejor-caso-bt', 116, 1000, 'BT', 0.1063], ['mejor-caso-bt', 117, 1000, 'BT', 0.1105], ['mejor-caso-bt', 118, 1000, 'BT', 0.1102], ['mejor-caso-bt', 119, 1000, 'BT', 0.107], ['mejor-caso-bt', 120, 1000, 'BT', 0.1053], ['mejor-caso-bt', 121, 1000, 'BT', 0.1091], ['mejor-caso-bt', 122, 1000, 'BT', 0.1091], ['mejor-caso-bt', 123, 1000, 'BT', 0.1098], ['mejor-caso-bt', 124, 1000, 'BT', 0.1098], ['mejor-caso-bt', 125, 1000, 'BT', 0.1132], ['mejor-caso-bt', 126, 1000, 'BT', 0.1127], ['mejor-caso-bt', 127, 1000, 'BT', 0.1144], ['mejor-caso-bt', 128, 1000, 'BT', 0.1142], ['mejor-caso-bt', 129, 1000, 'BT', 0.1151], ['mejor-caso-bt', 130, 1000, 'BT', 0.1148], ['mejor-caso-bt', 131, 1000, 'BT', 0.1175], ['mejor-caso-bt', 132, 1000, 'BT', 0.1164], ['mejor-caso-bt', 133, 1000, 'BT', 0.1172], ['mejor-caso-bt', 134, 1000, 'BT', 0.1165], ['mejor-caso-bt', 135, 1000, 'BT', 0.1202], ['mejor-caso-bt', 136, 1000, 'BT', 0.1235], ['mejor-caso-bt', 137, 1000, 'BT', 0.1219], ['mejor-caso-bt', 138, 1000, 'BT', 0.1231], ['mejor-caso-bt', 139, 1000, 'BT', 0.1235], ['mejor-caso-bt', 140, 1000, 'BT', 0.1271], ['mejor-caso-bt', 141, 1000, 'BT', 0.1291], ['mejor-caso-bt', 142, 1000, 'BT', 0.1274], ['mejor-caso-bt', 143, 1000, 'BT', 0.1286], ['mejor-caso-bt', 144, 1000, 'BT', 0.1315], ['mejor-caso-bt', 145, 1000, 'BT', 0.1285], ['mejor-caso-bt', 146, 1000, 'BT', 0.1329], ['mejor-caso-bt', 147, 1000, 'BT', 0.1305], ['mejor-caso-bt', 148, 1000, 'BT', 0.1323], ['mejor-caso-bt', 149, 1000, 'BT', 0.1316], ['mejor-caso-bt', 150, 1000, 'BT', 0.1766], ['mejor-caso-bt', 151, 1000, 'BT', 0.163], ['mejor-caso-bt', 152, 1000, 'BT', 0.1407], ['mejor-caso-bt', 153, 1000, 'BT', 0.1368], ['mejor-caso-bt', 154, 1000, 'BT', 0.1362], ['mejor-caso-bt', 155, 1000, 'BT', 0.138], ['mejor-caso-bt', 156, 1000, 'BT', 0.1372], ['mejor-caso-bt', 157, 1000, 'BT', 0.1433], ['mejor-caso-bt', 158, 1000, 'BT', 0.1702], ['mejor-caso-bt', 159, 1000, 'BT', 0.1416], ['mejor-caso-bt', 160, 1000, 'BT', 0.1431], ['mejor-caso-bt', 161, 1000, 'BT', 0.1459], ['mejor-caso-bt', 162, 1000, 'BT', 0.1526], ['mejor-caso-bt', 163, 1000, 'BT', 0.1506], ['mejor-caso-bt', 164, 1000, 'BT', 0.1496], ['mejor-caso-bt', 165, 1000, 'BT', 0.1804], ['mejor-caso-bt', 166, 1000, 'BT', 0.15], ['mejor-caso-bt', 167, 1000, 'BT', 0.1551], ['mejor-caso-bt', 168, 1000, 'BT', 0.1563], ['mejor-caso-bt', 169, 1000, 'BT', 0.156], ['mejor-caso-bt', 170, 1000, 'BT', 0.1581], ['mejor-caso-bt', 171, 1000, 'BT', 0.159], ['mejor-caso-bt', 172, 1000, 'BT', 0.165], ['mejor-caso-bt', 173, 1000, 'BT', 0.1835], ['mejor-caso-bt', 174, 1000, 'BT', 0.1659], ['mejor-caso-bt', 175, 1000, 'BT', 0.1608], ['mejor-caso-bt', 176, 1000, 'BT', 0.1617], ['mejor-caso-bt', 177, 1000, 'BT', 0.1787], ['mejor-caso-bt', 178, 1000, 'BT', 0.1837], ['mejor-caso-bt', 179, 1000, 'BT', 0.1648], ['mejor-caso-bt', 180, 1000, 'BT', 0.1668], ['mejor-caso-bt', 181, 1000, 'BT', 0.1635], ['mejor-caso-bt', 182, 1000, 'BT', 0.17], ['mejor-caso-bt', 183, 1000, 'BT', 0.1674], ['mejor-caso-bt', 184, 1000, 'BT', 0.1806], ['mejor-caso-bt', 185, 1000, 'BT', 0.1695], ['mejor-caso-bt', 186, 1000, 'BT', 0.1745], ['mejor-caso-bt', 187, 1000, 'BT', 0.1773], ['mejor-caso-bt', 188, 1000, 'BT', 0.2171], ['mejor-caso-bt', 189, 1000, 'BT', 0.1744], ['mejor-caso-bt', 190, 1000, 'BT', 0.1748], ['mejor-caso-bt', 191, 1000, 'BT', 0.1771], ['mejor-caso-bt', 192, 1000, 'BT', 0.1847], ['mejor-caso-bt', 193, 1000, 'BT', 0.1823], ['mejor-caso-bt', 194, 1000, 'BT', 0.1779], ['mejor-caso-bt', 195, 1000, 'BT', 0.1773], ['mejor-caso-bt', 196, 1000, 'BT', 0.1805], ['mejor-caso-bt', 197, 1000, 'BT', 0.2059], ['mejor-caso-bt', 198, 1000, 'BT', 0.1886], ['mejor-caso-bt', 199, 1000, 'BT', 0.1877], ['mejor-caso-bt', 200, 1000, 'BT', 0.1882], ['mejor-caso-bt', 201, 1000, 'BT', 0.189], ['mejor-caso-bt', 202, 1000, 'BT', 0.1867], ['mejor-caso-bt', 203, 1000, 'BT', 0.1924], ['mejor-caso-bt', 204, 1000, 'BT', 0.1927], ['mejor-caso-bt', 205, 1000, 'BT', 0.1937], ['mejor-caso-bt', 206, 1000, 'BT', 0.1927], ['mejor-caso-bt', 207, 1000, 'BT', 0.1942], ['mejor-caso-bt', 208, 1000, 'BT', 0.1975], ['mejor-caso-bt', 209, 1000, 'BT', 0.1991], ['mejor-caso-bt', 210, 1000, 'BT', 0.2001], ['mejor-caso-bt', 211, 1000, 'BT', 0.1989], ['mejor-caso-bt', 212, 1000, 'BT', 0.2], ['mejor-caso-bt', 213, 1000, 'BT', 0.2036], ['mejor-caso-bt', 214, 1000, 'BT', 0.2066], ['mejor-caso-bt', 215, 1000, 'BT', 0.2051], ['mejor-caso-bt', 216, 1000, 'BT', 0.204], ['mejor-caso-bt', 217, 1000, 'BT', 0.2073], ['mejor-caso-bt', 218, 1000, 'BT', 0.2122], ['mejor-caso-bt', 219, 1000, 'BT', 0.2125], ['mejor-caso-bt', 220, 1000, 'BT', 0.2104], ['mejor-caso-bt', 221, 1000, 'BT', 0.2091], ['mejor-caso-bt', 222, 1000, 'BT', 0.2118], ['mejor-caso-bt', 223, 1000, 'BT', 0.2179], ['mejor-caso-bt', 224, 1000, 'BT', 0.2159], ['mejor-caso-bt', 225, 1000, 'BT', 0.2457], ['mejor-caso-bt', 226, 1000, 'BT', 0.2287], ['mejor-caso-bt', 227, 1000, 'BT', 0.2221], ['mejor-caso-bt', 228, 1000, 'BT', 0.2144], ['mejor-caso-bt', 229, 1000, 'BT', 0.2173], ['mejor-caso-bt', 230, 1000, 'BT', 0.236], ['mejor-caso-bt', 231, 1000, 'BT', 0.2194], ['mejor-caso-bt', 232, 1000, 'BT', 0.2349], ['mejor-caso-bt', 233, 1000, 'BT', 0.2266], ['mejor-caso-bt', 234, 1000, 'BT', 0.2258], ['mejor-caso-bt', 235, 1000, 'BT', 0.2219], ['mejor-caso-bt', 236, 1000, 'BT', 0.2259], ['mejor-caso-bt', 237, 1000, 'BT', 0.2218], ['mejor-caso-bt', 238, 1000, 'BT', 0.219], ['mejor-caso-bt', 239, 1000, 'BT', 0.2411], ['mejor-caso-bt', 240, 1000, 'BT', 0.2238], ['mejor-caso-bt', 241, 1000, 'BT', 0.2288], ['mejor-caso-bt', 242, 1000, 'BT', 0.2554], ['mejor-caso-bt', 243, 1000, 'BT', 0.246], ['mejor-caso-bt', 244, 1000, 'BT', 0.2385], ['mejor-caso-bt', 245, 1000, 'BT', 0.2322], ['mejor-caso-bt', 246, 1000, 'BT', 0.2352], ['mejor-caso-bt', 247, 1000, 'BT', 0.2325], ['mejor-caso-bt', 248, 1000, 'BT', 0.2343], ['mejor-caso-bt', 249, 1000, 'BT', 0.2414], ['mejor-caso-bt', 250, 1000, 'BT', 0.2387], ['mejor-caso-bt', 251, 1000, 'BT', 0.2406], ['mejor-caso-bt', 252, 1000, 'BT', 0.2452], ['mejor-caso-bt', 253, 1000, 'BT', 0.2439], ['mejor-caso-bt', 254, 1000, 'BT', 0.2421], ['mejor-caso-bt', 255, 1000, 'BT', 0.2562], ['mejor-caso-bt', 256, 1000, 'BT', 0.2423], ['mejor-caso-bt', 257, 1000, 'BT', 0.2494], ['mejor-caso-bt', 258, 1000, 'BT', 0.2759], ['mejor-caso-bt', 259, 1000, 'BT', 0.2511], ['mejor-caso-bt', 260, 1000, 'BT', 0.2567], ['mejor-caso-bt', 261, 1000, 'BT', 0.2527], ['mejor-caso-bt', 262, 1000, 'BT', 0.2494], ['mejor-caso-bt', 263, 1000, 'BT', 0.2483], ['mejor-caso-bt', 264, 1000, 'BT', 0.2568], ['mejor-caso-bt', 265, 1000, 'BT', 0.2652], ['mejor-caso-bt', 266, 1000, 'BT', 0.2593], ['mejor-caso-bt', 267, 1000, 'BT', 0.2524], ['mejor-caso-bt', 268, 1000, 'BT', 0.2547], ['mejor-caso-bt', 269, 1000, 'BT', 0.2618], ['mejor-caso-bt', 270, 1000, 'BT', 0.2639], ['mejor-caso-bt', 271, 1000, 'BT', 0.2567], ['mejor-caso-bt', 272, 1000, 'BT', 0.3007], ['mejor-caso-bt', 273, 1000, 'BT', 0.2608], ['mejor-caso-bt', 274, 1000, 'BT', 0.2617], ['mejor-caso-bt', 275, 1000, 'BT', 0.2632], ['mejor-caso-bt', 276, 1000, 'BT', 0.274], ['mejor-caso-bt', 277, 1000, 'BT', 0.2592], ['mejor-caso-bt', 278, 1000, 'BT', 0.2609], ['mejor-caso-bt', 279, 1000, 'BT', 0.2867], ['mejor-caso-bt', 280, 1000, 'BT', 0.2678], ['mejor-caso-bt', 281, 1000, 'BT', 0.2673], ['mejor-caso-bt', 282, 1000, 'BT', 0.271], ['mejor-caso-bt', 283, 1000, 'BT', 0.3079], ['mejor-caso-bt', 284, 1000, 'BT', 0.2687], ['mejor-caso-bt', 285, 1000, 'BT', 0.3037], ['mejor-caso-bt', 286, 1000, 'BT', 0.2711], ['mejor-caso-bt', 287, 1000, 'BT', 0.2715], ['mejor-caso-bt', 288, 1000, 'BT', 0.2852], ['mejor-caso-bt', 289, 1000, 'BT', 0.2723], ['mejor-caso-bt', 290, 1000, 'BT', 0.2904], ['mejor-caso-bt', 291, 1000, 'BT', 0.271], ['mejor-caso-bt', 292, 1000, 'BT', 0.2733], ['mejor-caso-bt', 293, 1000, 'BT', 0.2933], ['mejor-caso-bt', 294, 1000, 'BT', 0.2758], ['mejor-caso-bt', 295, 1000, 'BT', 0.293], ['mejor-caso-bt', 296, 1000, 'BT', 0.2857], ['mejor-caso-bt', 297, 1000, 'BT', 0.2821], ['mejor-caso-bt', 298, 1000, 'BT', 0.281], ['mejor-caso-bt', 299, 1000, 'BT', 0.3008], ['mejor-caso-bt', 300, 1000, 'BT', 0.2929], ['mejor-caso-bt', 301, 1000, 'BT', 0.2863], ['mejor-caso-bt', 302, 1000, 'BT', 0.2897], ['mejor-caso-bt', 303, 1000, 'BT', 0.2864], ['mejor-caso-bt', 304, 1000, 'BT', 0.2913], ['mejor-caso-bt', 305, 1000, 'BT', 0.2936], ['mejor-caso-bt', 306, 1000, 'BT', 0.2924], ['mejor-caso-bt', 307, 1000, 'BT', 0.289], ['mejor-caso-bt', 308, 1000, 'BT', 0.3409], ['mejor-caso-bt', 309, 1000, 'BT', 0.2885], ['mejor-caso-bt', 310, 1000, 'BT', 0.3106], ['mejor-caso-bt', 311, 1000, 'BT', 0.2904], ['mejor-caso-bt', 312, 1000, 'BT', 0.2929], ['mejor-caso-bt', 313, 1000, 'BT', 0.333], ['mejor-caso-bt', 314, 1000, 'BT', 0.3114], ['mejor-caso-bt', 315, 1000, 'BT', 0.3287], ['mejor-caso-bt', 316, 1000, 'BT', 0.3147], ['mejor-caso-bt', 317, 1000, 'BT', 0.2985], ['mejor-caso-bt', 318, 1000, 'BT', 0.3357], ['mejor-caso-bt', 319, 1000, 'BT', 0.3101], ['mejor-caso-bt', 320, 1000, 'BT', 0.3371], ['mejor-caso-bt', 321, 1000, 'BT', 0.3038], ['mejor-caso-bt', 322, 1000, 'BT', 0.3075], ['mejor-caso-bt', 323, 1000, 'BT', 0.3391], ['mejor-caso-bt', 324, 1000, 'BT', 0.3064], ['mejor-caso-bt', 325, 1000, 'BT', 0.3052], ['mejor-caso-bt', 326, 1000, 'BT', 0.3218], ['mejor-caso-bt', 327, 1000, 'BT', 0.3148], ['mejor-caso-bt', 328, 1000, 'BT', 0.3142], ['mejor-caso-bt', 329, 1000, 'BT', 0.3201], ['mejor-caso-bt', 330, 1000, 'BT', 0.3189], ['mejor-caso-bt', 331, 1000, 'BT', 0.351], ['mejor-caso-bt', 332, 1000, 'BT', 0.3474], ['mejor-caso-bt', 333, 1000, 'BT', 0.3189], ['mejor-caso-bt', 334, 1000, 'BT', 0.3231], ['mejor-caso-bt', 335, 1000, 'BT', 0.3335], ['mejor-caso-bt', 336, 1000, 'BT', 0.3283], ['mejor-caso-bt', 337, 1000, 'BT', 0.3416], ['mejor-caso-bt', 338, 1000, 'BT', 0.3247], ['mejor-caso-bt', 339, 1000, 'BT', 0.3802], ['mejor-caso-bt', 340, 1000, 'BT', 0.328], ['mejor-caso-bt', 341, 1000, 'BT', 0.3328], ['mejor-caso-bt', 342, 1000, 'BT', 0.3347], ['mejor-caso-bt', 343, 1000, 'BT', 0.35], ['mejor-caso-bt', 344, 1000, 'BT', 0.3408], ['mejor-caso-bt', 345, 1000, 'BT', 0.3598], ['mejor-caso-bt', 346, 1000, 'BT', 0.3596], ['mejor-caso-bt', 347, 1000, 'BT', 0.3642], ['mejor-caso-bt', 348, 1000, 'BT', 0.3393], ['mejor-caso-bt', 349, 1000, 'BT', 0.347], ['mejor-caso-bt', 350, 1000, 'BT', 0.3547], ['mejor-caso-bt', 351, 1000, 'BT', 0.3424], ['mejor-caso-bt', 352, 1000, 'BT', 0.3867], ['mejor-caso-bt', 353, 1000, 'BT', 0.3486], ['mejor-caso-bt', 354, 1000, 'BT', 0.3371], ['mejor-caso-bt', 355, 1000, 'BT', 0.3394], ['mejor-caso-bt', 356, 1000, 'BT', 0.3499], ['mejor-caso-bt', 357, 1000, 'BT', 0.393], ['mejor-caso-bt', 358, 1000, 'BT', 0.3458], ['mejor-caso-bt', 359, 1000, 'BT', 0.3456], ['mejor-caso-bt', 360, 1000, 'BT', 0.3597], ['mejor-caso-bt', 361, 1000, 'BT', 0.3887], ['mejor-caso-bt', 362, 1000, 'BT', 0.3488], ['mejor-caso-bt', 363, 1000, 'BT', 0.3512], ['mejor-caso-bt', 364, 1000, 'BT', 0.3521], ['mejor-caso-bt', 365, 1000, 'BT', 0.3591], ['mejor-caso-bt', 366, 1000, 'BT', 0.3543], ['mejor-caso-bt', 367, 1000, 'BT', 0.3518], ['mejor-caso-bt', 368, 1000, 'BT', 0.3689], ['mejor-caso-bt', 369, 1000, 'BT', 0.3877], ['mejor-caso-bt', 370, 1000, 'BT', 0.3538], ['mejor-caso-bt', 371, 1000, 'BT', 0.3528], ['mejor-caso-bt', 372, 1000, 'BT', 0.3885], ['mejor-caso-bt', 373, 1000, 'BT', 0.3853], ['mejor-caso-bt', 374, 1000, 'BT', 0.3934], ['mejor-caso-bt', 375, 1000, 'BT', 0.3827], ['mejor-caso-bt', 376, 1000, 'BT', 0.3607], ['mejor-caso-bt', 377, 1000, 'BT', 0.3672], ['mejor-caso-bt', 378, 1000, 'BT', 0.4064], ['mejor-caso-bt', 379, 1000, 'BT', 0.4002], ['mejor-caso-bt', 380, 1000, 'BT', 0.406], ['mejor-caso-bt', 381, 1000, 'BT', 0.3855], ['mejor-caso-bt', 382, 1000, 'BT', 0.3959], ['mejor-caso-bt', 383, 1000, 'BT', 0.3688], ['mejor-caso-bt', 384, 1000, 'BT', 0.4098], ['mejor-caso-bt', 385, 1000, 'BT', 0.3715], ['mejor-caso-bt', 386, 1000, 'BT', 0.3676], ['mejor-caso-bt', 387, 1000, 'BT', 0.3753], ['mejor-caso-bt', 388, 1000, 'BT', 0.3746], ['mejor-caso-bt', 389, 1000, 'BT', 0.3813], ['mejor-caso-bt', 390, 1000, 'BT', 0.3876], ['mejor-caso-bt', 391, 1000, 'BT', 0.4271], ['mejor-caso-bt', 392, 1000, 'BT', 0.3985], ['mejor-caso-bt', 393, 1000, 'BT', 0.3829], ['mejor-caso-bt', 394, 1000, 'BT', 0.3787], ['mejor-caso-bt', 395, 1000, 'BT', 0.3874], ['mejor-caso-bt', 396, 1000, 'BT', 0.3801], ['mejor-caso-bt', 397, 1000, 'BT', 0.3886], ['mejor-caso-bt', 398, 1000, 'BT', 0.3844], ['mejor-caso-bt', 399, 1000, 'BT', 0.3848], ['mejor-caso-bt', 400, 1000, 'BT', 0.3869], ['mejor-caso-bt', 401, 1000, 'BT', 0.3847], ['mejor-caso-bt', 402, 1000, 'BT', 0.3936], ['mejor-caso-bt', 403, 1000, 'BT', 0.3903], ['mejor-caso-bt', 404, 1000, 'BT', 0.3912], ['mejor-caso-bt', 405, 1000, 'BT', 0.4213], ['mejor-caso-bt', 406, 1000, 'BT', 0.3895], ['mejor-caso-bt', 407, 1000, 'BT', 0.3872], ['mejor-caso-bt', 408, 1000, 'BT', 0.4122], ['mejor-caso-bt', 409, 1000, 'BT', 0.3994], ['mejor-caso-bt', 410, 1000, 'BT', 0.4342], ['mejor-caso-bt', 411, 1000, 'BT', 0.4081], ['mejor-caso-bt', 412, 1000, 'BT', 0.3993], ['mejor-caso-bt', 413, 1000, 'BT', 0.4038], ['mejor-caso-bt', 414, 1000, 'BT', 0.4472], ['mejor-caso-bt', 415, 1000, 'BT', 0.4342], ['mejor-caso-bt', 416, 1000, 'BT', 0.4398], ['mejor-caso-bt', 417, 1000, 'BT', 0.4027], ['mejor-caso-bt', 418, 1000, 'BT', 0.4141], ['mejor-caso-bt', 419, 1000, 'BT', 0.4013], ['mejor-caso-bt', 420, 1000, 'BT', 0.4031], ['mejor-caso-bt', 421, 1000, 'BT', 0.4018], ['mejor-caso-bt', 422, 1000, 'BT', 0.416], ['mejor-caso-bt', 423, 1000, 'BT', 0.4371], ['mejor-caso-bt', 424, 1000, 'BT', 0.4047], ['mejor-caso-bt', 425, 1000, 'BT', 0.4142], ['mejor-caso-bt', 426, 1000, 'BT', 0.4121], ['mejor-caso-bt', 427, 1000, 'BT', 0.4467], ['mejor-caso-bt', 428, 1000, 'BT', 0.415], ['mejor-caso-bt', 429, 1000, 'BT', 0.4109], ['mejor-caso-bt', 430, 1000, 'BT', 0.4102], ['mejor-caso-bt', 431, 1000, 'BT', 0.4174], ['mejor-caso-bt', 432, 1000, 'BT', 0.413], ['mejor-caso-bt', 433, 1000, 'BT', 0.4201], ['mejor-caso-bt', 434, 1000, 'BT', 0.4428], ['mejor-caso-bt', 435, 1000, 'BT', 0.4344], ['mejor-caso-bt', 436, 1000, 'BT', 0.4694], ['mejor-caso-bt', 437, 1000, 'BT', 0.4328], ['mejor-caso-bt', 438, 1000, 'BT', 0.4634], ['mejor-caso-bt', 439, 1000, 'BT', 0.4301], ['mejor-caso-bt', 440, 1000, 'BT', 0.4252], ['mejor-caso-bt', 441, 1000, 'BT', 0.4237], ['mejor-caso-bt', 442, 1000, 'BT', 0.4289], ['mejor-caso-bt', 443, 1000, 'BT', 0.4313], ['mejor-caso-bt', 444, 1000, 'BT', 0.4535], ['mejor-caso-bt', 445, 1000, 'BT', 0.4295], ['mejor-caso-bt', 446, 1000, 'BT', 0.4267], ['mejor-caso-bt', 447, 1000, 'BT', 0.4294], ['mejor-caso-bt', 448, 1000, 'BT', 0.4541], ['mejor-caso-bt', 449, 1000, 'BT', 0.5004], ['mejor-caso-bt', 450, 1000, 'BT', 0.4496], ['mejor-caso-bt', 451, 1000, 'BT', 0.4425], ['mejor-caso-bt', 452, 1000, 'BT', 0.4367], ['mejor-caso-bt', 453, 1000, 'BT', 0.4715], ['mejor-caso-bt', 454, 1000, 'BT', 0.4397], ['mejor-caso-bt', 455, 1000, 'BT', 0.4848], ['mejor-caso-bt', 456, 1000, 'BT', 0.4466], ['mejor-caso-bt', 457, 1000, 'BT', 0.44], ['mejor-caso-bt', 458, 1000, 'BT', 0.4936], ['mejor-caso-bt', 459, 1000, 'BT', 0.4677], ['mejor-caso-bt', 460, 1000, 'BT', 0.4527], ['mejor-caso-bt', 461, 1000, 'BT', 0.4426], ['mejor-caso-bt', 462, 1000, 'BT', 0.4413], ['mejor-caso-bt', 463, 1000, 'BT', 0.4712], ['mejor-caso-bt', 464, 1000, 'BT', 0.4961], ['mejor-caso-bt', 465, 1000, 'BT', 0.455], ['mejor-caso-bt', 466, 1000, 'BT', 0.4615], ['mejor-caso-bt', 467, 1000, 'BT', 0.4795], ['mejor-caso-bt', 468, 1000, 'BT', 0.4562], ['mejor-caso-bt', 469, 1000, 'BT', 0.4715], ['mejor-caso-bt', 470, 1000, 'BT', 0.455], ['mejor-caso-bt', 471, 1000, 'BT', 0.4593], ['mejor-caso-bt', 472, 1000, 'BT', 0.481], ['mejor-caso-bt', 473, 1000, 'BT', 0.4837], ['mejor-caso-bt', 474, 1000, 'BT', 0.4649], ['mejor-caso-bt', 475, 1000, 'BT', 0.4814], ['mejor-caso-bt', 476, 1000, 'BT', 0.4701], ['mejor-caso-bt', 477, 1000, 'BT', 0.4608], ['mejor-caso-bt', 478, 1000, 'BT', 0.5263], ['mejor-caso-bt', 479, 1000, 'BT', 0.5105], ['mejor-caso-bt', 480, 1000, 'BT', 0.4733], ['mejor-caso-bt', 481, 1000, 'BT', 0.465], ['mejor-caso-bt', 482, 1000, 'BT', 0.4672], ['mejor-caso-bt', 483, 1000, 'BT', 0.4649], ['mejor-caso-bt', 484, 1000, 'BT', 0.4796], ['mejor-caso-bt', 485, 1000, 'BT', 0.4716], ['mejor-caso-bt', 486, 1000, 'BT', 0.4974], ['mejor-caso-bt', 487, 1000, 'BT', 0.5069], ['mejor-caso-bt', 488, 1000, 'BT', 0.4791], ['mejor-caso-bt', 489, 1000, 'BT', 0.4793], ['mejor-caso-bt', 490, 1000, 'BT', 0.4832], ['mejor-caso-bt', 491, 1000, 'BT', 0.4778], ['mejor-caso-bt', 492, 1000, 'BT', 0.5305], ['mejor-caso-bt', 493, 1000, 'BT', 0.4829], ['mejor-caso-bt', 494, 1000, 'BT', 0.5239], ['mejor-caso-bt', 495, 1000, 'BT', 0.4783], ['mejor-caso-bt', 496, 1000, 'BT', 0.484], ['mejor-caso-bt', 497, 1000, 'BT', 0.4859], ['mejor-caso-bt', 498, 1000, 'BT', 0.4851]]\n"
     ]
    }
   ],
   "source": [
    "columnas = [\"dataset\", \"n\", \"W\", \"metodo\", \"tiempo\"];\n",
    "filas = [];\n",
    "numero = 1\n",
    "T = 5 # Numero de veces que se ejecuta cada experimento (para mayor fidelidad del tiempo).\n",
    "#print(experimentos)\n",
    "for experimento in experimentos:\n",
    "    # Voy mostrando que experimento se esta ejecutando.\n",
    "    clear_output(wait=True)\n",
    "    display('Experimento: ' + str(numero) + \"/\" + str(len(experimentos)))\n",
    "    numero += 1\n",
    "    \n",
    "    # Ejecutamos el experimento T veces y obtenemos la mediana.\n",
    "    tiempos = []\n",
    "    for i in range(0, T):\n",
    "        #print(experimento[3])\n",
    "        tiempos.append(correr_experimento(experimento[3], experimento[4]));\n",
    "    tiempo = np.median(tiempos);\n",
    "    filas.append([experimento[0], experimento[1], experimento[2], experimento[3], tiempo]);\n",
    "    print(filas)\n",
    "df_resultado = pd.DataFrame(filas, columns=columnas);\n",
    "df_resultado.to_csv(\"resultados/resultado.csv\", index=False, header=True);"
   ]
  },
  {
   "cell_type": "code",
   "execution_count": 13,
   "metadata": {},
   "outputs": [
    {
     "name": "stdout",
     "output_type": "stream",
     "text": [
      "Hi\n"
     ]
    }
   ],
   "source": [
    "print(\"Hi\")"
   ]
  },
  {
   "cell_type": "code",
   "execution_count": null,
   "metadata": {},
   "outputs": [],
   "source": []
  }
 ],
 "metadata": {
  "kernelspec": {
   "display_name": "Python 3",
   "language": "python",
   "name": "python3"
  },
  "language_info": {
   "codemirror_mode": {
    "name": "ipython",
    "version": 3
   },
   "file_extension": ".py",
   "mimetype": "text/x-python",
   "name": "python",
   "nbconvert_exporter": "python",
   "pygments_lexer": "ipython3",
   "version": "3.7.9"
  }
 },
 "nbformat": 4,
 "nbformat_minor": 4
}
