{
 "cells": [
  {
   "cell_type": "markdown",
   "metadata": {},
   "source": [
    "# Correr experimentos\n",
    "En este archivo está el código para correr los experimentos y escribir los resultados en archivos CSV.\n",
    "> Los archivos se guardan en la carpeta _resultados_."
   ]
  },
  {
   "cell_type": "code",
   "execution_count": 16,
   "metadata": {},
   "outputs": [],
   "source": [
    "import math, subprocess\n",
    "import pandas as pd\n",
    "import numpy as np\n",
    "from IPython.display import display, clear_output"
   ]
  },
  {
   "cell_type": "markdown",
   "metadata": {},
   "source": [
    "A continuación leemos los datasets en dataframes de Pandas."
   ]
  },
  {
   "cell_type": "code",
   "execution_count": 17,
   "metadata": {},
   "outputs": [],
   "source": [
    "def leer_instancia(path_instancia):\n",
    "    with open(path_instancia, \"r\") as f:\n",
    "        return f.read();\n",
    "\n",
    "#df_densidad_alta = pd.read_csv(\"instancias/densidad-alta/indice.csv\");\n",
    "#df_densidad_baja = pd.read_csv(\"instancias/densidad-baja/indice.csv\");\n",
    "#df_mejor_caso_bt = pd.read_csv(\"instancias/mejor-caso-bt/indice.csv\");\n",
    "#df_peor_caso_bt = pd.read_csv(\"instancias/peor-caso-bt/indice.csv\");\n",
    "#df_dinamica = pd.read_csv(\"instancias/dinamica/indice.csv\");\n",
    "bt_podas = pd.read_csv(\"instancias/podas-BT/indice.csv\");\n",
    "bt_vs_pd = pd.read_csv(\"instancias/BTvsPD/indice.csv\");"
   ]
  },
  {
   "cell_type": "markdown",
   "metadata": {},
   "source": [
    "La siguiente función sirve para correr el código sobre una instancia ejecutando un método en particular.\n",
    "- FB: Fuerza bruta\n",
    "- BT: Backtracking con ambas podas.\n",
    "- BT-F: Backtracking solamente con poda por factibilidad.\n",
    "- BT-O: Backtracking solamente con poda por optimalidad.\n",
    "- DP: Programación dinámica."
   ]
  },
  {
   "cell_type": "code",
   "execution_count": 18,
   "metadata": {},
   "outputs": [],
   "source": [
    "# Devuelve el tiempo de ejecucion\n",
    "def correr_experimento(metodo, archivo_instancia): #archivo_instancia es el PATH al test.\n",
    "    # Leer archivo de la instancia.\n",
    "    instancia = leer_instancia(archivo_instancia)\n",
    "    \n",
    "    # Crear proceso para ejecutar el codigo.\n",
    "    process = subprocess.Popen([\"../social_distancing\", metodo], stderr=subprocess.PIPE, stdout=subprocess.PIPE, stdin=subprocess.PIPE, universal_newlines = True)\n",
    "\n",
    "    # Poner la instancia en la entrada estandar. OKEY. ACA. \n",
    "    process.stdin.write(instancia)\n",
    "    process.stdin.flush()\n",
    "\n",
    "    # Correr experimento.\n",
    "    exit_code = process.wait()\n",
    "\n",
    "    # Verificar que el proceso no fallo.\n",
    "    if exit_code != 0: raise(F\"Hubo un error en la experimentacion para el algoritmo: {algoritmo} con la instancia {archivo_instancia}.\")\n",
    "    # Leer salida de STDERR con los tiempos de ejecucion de cada metodo.\n",
    "    tiempo_de_ejecucion = float(process.stderr.read());\n",
    "    \n",
    "    process.stdin.close();\n",
    "    process.stdout.close();\n",
    "    process.stderr.close();\n",
    "    \n",
    "    return tiempo_de_ejecucion;"
   ]
  },
  {
   "cell_type": "markdown",
   "metadata": {},
   "source": [
    "## Corremos los experimentos\n",
    "Vamos a guardar una tabla con las ejecuciones y sus respectivos tiempos."
   ]
  },
  {
   "cell_type": "code",
   "execution_count": 19,
   "metadata": {},
   "outputs": [],
   "source": [
    "experimentos = [];"
   ]
  },
  {
   "cell_type": "markdown",
   "metadata": {},
   "source": [
    "### Experimento 1\n",
    "Correr Fuerza Bruta en las primeras 30 instancias de densidad-alta y densidad-baja.\n",
    "\n",
    "Mio: Correr FB de la instancia 30 a la 60 de ambas densidades."
   ]
  },
  {
   "cell_type": "code",
   "execution_count": 11,
   "metadata": {},
   "outputs": [],
   "source": [
    "for n in range(10, 35):\n",
    "    fila_n = df_densidad_alta.iloc[n];\n",
    "    experimentos.append([fila_n[\"dataset\"], n, fila_n[\"W\"], \"FB\", fila_n[\"archivo\"]]);\n",
    "\n",
    "for n in range(10, 35):\n",
    "    fila_n = df_densidad_baja.iloc[n];\n",
    "    experimentos.append([fila_n[\"dataset\"], n, fila_n[\"W\"], \"FB\", fila_n[\"archivo\"]]);"
   ]
  },
  {
   "cell_type": "markdown",
   "metadata": {},
   "source": [
    "## Experimento 2\n",
    "Correr BT para mejor y peor caso."
   ]
  },
  {
   "cell_type": "code",
   "execution_count": 23,
   "metadata": {},
   "outputs": [],
   "source": [
    "for n in range(0, df_mejor_caso_bt.shape[0]):\n",
    "    fila_n = df_mejor_caso_bt.iloc[n];\n",
    "    experimentos.append([fila_n[\"dataset\"], n, fila_n[\"W\"], \"BT\", fila_n[\"archivo\"]]);\n",
    "\n",
    "#for n in range(0, df_peor_caso_bt.shape[0]):\n",
    " #   fila_n = df_peor_caso_bt.iloc[n];\n",
    "  #  experimentos.append([fila_n[\"dataset\"], n, fila_n[\"W\"], \"BT\", fila_n[\"archivo\"]]);"
   ]
  },
  {
   "cell_type": "markdown",
   "metadata": {},
   "source": [
    "## Experimento 3\n",
    "Correr BT, BT-F, BT-O para densidad alta y baja."
   ]
  },
  {
   "cell_type": "code",
   "execution_count": null,
   "metadata": {},
   "outputs": [],
   "source": [
    "for n in range(0, df_densidad_alta.shape[0]):\n",
    "    fila_n = df_densidad_alta.iloc[n];\n",
    "    experimentos.append([fila_n[\"dataset\"], n, fila_n[\"W\"], \"BT\", fila_n[\"archivo\"]]);\n",
    "    experimentos.append([fila_n[\"dataset\"], n, fila_n[\"W\"], \"BT-F\", fila_n[\"archivo\"]]);\n",
    "    experimentos.append([fila_n[\"dataset\"], n, fila_n[\"W\"], \"BT-O\", fila_n[\"archivo\"]]);\n",
    "\n",
    "for n in range(0, 30):\n",
    "    fila_n = df_densidad_baja.iloc[n];\n",
    "    experimentos.append([fila_n[\"dataset\"], n, fila_n[\"W\"], \"BT\", fila_n[\"archivo\"]]);\n",
    "    experimentos.append([fila_n[\"dataset\"], n, fila_n[\"W\"], \"BT-F\", fila_n[\"archivo\"]]);\n",
    "    experimentos.append([fila_n[\"dataset\"], n, fila_n[\"W\"], \"BT-O\", fila_n[\"archivo\"]]);"
   ]
  },
  {
   "cell_type": "markdown",
   "metadata": {},
   "source": [
    "# Experimento 4\n",
    "Correr DP para el dataset _dinamica_."
   ]
  },
  {
   "cell_type": "code",
   "execution_count": 22,
   "metadata": {},
   "outputs": [],
   "source": [
    "for i in range(0, df_dinamica.shape[0]):\n",
    "    fila = df_dinamica.iloc[i];\n",
    "    experimentos.append([fila[\"dataset\"], fila[\"n\"], fila[\"W\"], \"DP\", fila[\"archivo\"]]);"
   ]
  },
  {
   "cell_type": "markdown",
   "metadata": {},
   "source": [
    "## Experimento 5\n",
    "Correr DP para el dataset densidad-alta y densidad-baja."
   ]
  },
  {
   "cell_type": "code",
   "execution_count": 7,
   "metadata": {},
   "outputs": [
    {
     "ename": "NameError",
     "evalue": "name 'df_densidad_alta' is not defined",
     "output_type": "error",
     "traceback": [
      "\u001b[0;31m---------------------------------------------------------------------------\u001b[0m",
      "\u001b[0;31mNameError\u001b[0m                                 Traceback (most recent call last)",
      "\u001b[0;32m<ipython-input-7-f5cbc0b49d56>\u001b[0m in \u001b[0;36m<module>\u001b[0;34m\u001b[0m\n\u001b[0;32m----> 1\u001b[0;31m \u001b[0;32mfor\u001b[0m \u001b[0mi\u001b[0m \u001b[0;32min\u001b[0m \u001b[0mrange\u001b[0m\u001b[0;34m(\u001b[0m\u001b[0;36m0\u001b[0m\u001b[0;34m,\u001b[0m \u001b[0mdf_densidad_alta\u001b[0m\u001b[0;34m.\u001b[0m\u001b[0mshape\u001b[0m\u001b[0;34m[\u001b[0m\u001b[0;36m0\u001b[0m\u001b[0;34m]\u001b[0m\u001b[0;34m)\u001b[0m\u001b[0;34m:\u001b[0m\u001b[0;34m\u001b[0m\u001b[0;34m\u001b[0m\u001b[0m\n\u001b[0m\u001b[1;32m      2\u001b[0m     \u001b[0mfila\u001b[0m \u001b[0;34m=\u001b[0m \u001b[0mdf_densidad_alta\u001b[0m\u001b[0;34m.\u001b[0m\u001b[0miloc\u001b[0m\u001b[0;34m[\u001b[0m\u001b[0mi\u001b[0m\u001b[0;34m]\u001b[0m\u001b[0;34m;\u001b[0m\u001b[0;34m\u001b[0m\u001b[0;34m\u001b[0m\u001b[0m\n\u001b[1;32m      3\u001b[0m     \u001b[0mexperimentos\u001b[0m\u001b[0;34m.\u001b[0m\u001b[0mappend\u001b[0m\u001b[0;34m(\u001b[0m\u001b[0;34m[\u001b[0m\u001b[0mfila\u001b[0m\u001b[0;34m[\u001b[0m\u001b[0;34m\"dataset\"\u001b[0m\u001b[0;34m]\u001b[0m\u001b[0;34m,\u001b[0m \u001b[0mfila\u001b[0m\u001b[0;34m[\u001b[0m\u001b[0;34m\"n\"\u001b[0m\u001b[0;34m]\u001b[0m\u001b[0;34m,\u001b[0m \u001b[0mfila\u001b[0m\u001b[0;34m[\u001b[0m\u001b[0;34m\"W\"\u001b[0m\u001b[0;34m]\u001b[0m\u001b[0;34m,\u001b[0m \u001b[0;34m\"DP\"\u001b[0m\u001b[0;34m,\u001b[0m \u001b[0mfila\u001b[0m\u001b[0;34m[\u001b[0m\u001b[0;34m\"archivo\"\u001b[0m\u001b[0;34m]\u001b[0m\u001b[0;34m]\u001b[0m\u001b[0;34m)\u001b[0m\u001b[0;34m;\u001b[0m\u001b[0;34m\u001b[0m\u001b[0;34m\u001b[0m\u001b[0m\n\u001b[1;32m      4\u001b[0m \u001b[0;34m\u001b[0m\u001b[0m\n\u001b[1;32m      5\u001b[0m \u001b[0;31m#for i in range(0, df_densidad_baja.shape[0]):\u001b[0m\u001b[0;34m\u001b[0m\u001b[0;34m\u001b[0m\u001b[0;34m\u001b[0m\u001b[0m\n",
      "\u001b[0;31mNameError\u001b[0m: name 'df_densidad_alta' is not defined"
     ]
    }
   ],
   "source": [
    "for i in range(0, df_densidad_alta.shape[0]):\n",
    "    fila = df_densidad_alta.iloc[i];\n",
    "    experimentos.append([fila[\"dataset\"], fila[\"n\"], fila[\"W\"], \"DP\", fila[\"archivo\"]]);\n",
    "\n",
    "#for i in range(0, df_densidad_baja.shape[0]):\n",
    "  #  fila = df_densidad_baja.iloc[i];\n",
    "   # experimentos.append([fila[\"dataset\"], fila[\"n\"], fila[\"W\"], \"DP\", fila[\"archivo\"]]);"
   ]
  },
  {
   "cell_type": "markdown",
   "metadata": {},
   "source": [
    "## Experimento 6\n",
    "Correr BT para las combinaciones de densidad alta/baja con beneficios iguales o dispares."
   ]
  },
  {
   "cell_type": "markdown",
   "metadata": {},
   "source": [
    "```Riesgo Alto - Igual Beneficio ```"
   ]
  },
  {
   "cell_type": "code",
   "execution_count": 8,
   "metadata": {},
   "outputs": [],
   "source": [
    "for i in range(0, bt_podas.shape[0]):\n",
    "    fila = bt_podas.iloc[i];\n",
    "    if (fila[\"instancia\"].find(\"RiesgoAlto-IgualBeneficios\") >= 0):\n",
    "        experimentos.append([fila[\"dataset\"] + \"-RA-BI\", fila[\"n\"], fila[\"W\"], \"BT\", fila[\"archivo\"]]);\n",
    "        experimentos.append([fila[\"dataset\"] + \"-RA-BI\", fila[\"n\"], fila[\"W\"], \"BT-O\", fila[\"archivo\"]]);\n",
    "        experimentos.append([fila[\"dataset\"] + \"-RA-BI\", fila[\"n\"], fila[\"W\"], \"BT-F\", fila[\"archivo\"]]);"
   ]
  },
  {
   "cell_type": "markdown",
   "metadata": {},
   "source": [
    "```Riesgo Alto - Beneficios Desiguales ```"
   ]
  },
  {
   "cell_type": "code",
   "execution_count": 11,
   "metadata": {},
   "outputs": [],
   "source": [
    "for i in range(0, bt_podas.shape[0]):\n",
    "    fila = bt_podas.iloc[i];\n",
    "    if (fila[\"instancia\"].find(\"RiesgoAlto-BeneficiosDesiguales\") >= 0):\n",
    "        experimentos.append([fila[\"dataset\"] + \"-RA-BD\", fila[\"n\"], fila[\"W\"], \"BT\", fila[\"archivo\"]]);\n",
    "        experimentos.append([fila[\"dataset\"] + \"-RA-BD\", fila[\"n\"], fila[\"W\"], \"BT-O\", fila[\"archivo\"]]);\n",
    "        experimentos.append([fila[\"dataset\"] + \"-RA-BD\", fila[\"n\"], fila[\"W\"], \"BT-F\", fila[\"archivo\"]]);"
   ]
  },
  {
   "cell_type": "markdown",
   "metadata": {},
   "source": [
    "```Riesgo Bajo - Igual Beneficio ```"
   ]
  },
  {
   "cell_type": "code",
   "execution_count": 14,
   "metadata": {},
   "outputs": [],
   "source": [
    "for i in range(0, bt_podas.shape[0]):\n",
    "    fila = bt_podas.iloc[i];\n",
    "    if (fila[\"instancia\"].find(\"RiesgoBajo-IgualBeneficios\") >= 0):\n",
    "        experimentos.append([fila[\"dataset\"] + \"-RB-BI\", fila[\"n\"], fila[\"W\"], \"BT\", fila[\"archivo\"]]);\n",
    "        experimentos.append([fila[\"dataset\"] + \"-RB-BI\", fila[\"n\"], fila[\"W\"], \"BT-O\", fila[\"archivo\"]]);\n",
    "        experimentos.append([fila[\"dataset\"] + \"-RB-BI\", fila[\"n\"], fila[\"W\"], \"BT-F\", fila[\"archivo\"]]);"
   ]
  },
  {
   "cell_type": "markdown",
   "metadata": {},
   "source": [
    "```Riesgo Bajo - Beneficios Desiguales ```"
   ]
  },
  {
   "cell_type": "code",
   "execution_count": 17,
   "metadata": {},
   "outputs": [],
   "source": [
    "for i in range(0, bt_podas.shape[0]):\n",
    "    fila = bt_podas.iloc[i];\n",
    "    if (fila[\"instancia\"].find(\"RiesgoBajo-BeneficiosDesiguales\") >= 0):\n",
    "        experimentos.append([fila[\"dataset\"] + \"-RB-BD\", fila[\"n\"], fila[\"W\"], \"BT\", fila[\"archivo\"]]);\n",
    "        experimentos.append([fila[\"dataset\"] + \"-RB-BD\", fila[\"n\"], fila[\"W\"], \"BT-O\", fila[\"archivo\"]]);\n",
    "        experimentos.append([fila[\"dataset\"] + \"-RB-BD\", fila[\"n\"], fila[\"W\"], \"BT-F\", fila[\"archivo\"]]);"
   ]
  },
  {
   "cell_type": "markdown",
   "metadata": {},
   "source": [
    "## Experimento 7\n",
    "Correr PD y BT en dataset de densidad alta y baja para ver como se comportan dichos algoritmos"
   ]
  },
  {
   "cell_type": "markdown",
   "metadata": {},
   "source": [
    "```Densidad de riesgo baja ```"
   ]
  },
  {
   "cell_type": "code",
   "execution_count": 20,
   "metadata": {},
   "outputs": [],
   "source": [
    "for i in range(0, bt_vs_pd.shape[0]):\n",
    "    fila = bt_vs_pd.iloc[i];\n",
    "    if (fila[\"instancia\"].find(\"DensidadBaja\") >= 0):\n",
    "        experimentos.append([fila[\"dataset\"] + \"-DRB\", fila[\"n\"], fila[\"W\"], \"BT\", fila[\"archivo\"]]);\n",
    "        experimentos.append([fila[\"dataset\"] + \"-DRB\", fila[\"n\"], fila[\"W\"], \"DP\", fila[\"archivo\"]]);\n",
    "        experimentos.append([fila[\"dataset\"] + \"-DRB\", fila[\"n\"], fila[\"W\"], \"BT-F\", fila[\"archivo\"]]);"
   ]
  },
  {
   "cell_type": "markdown",
   "metadata": {},
   "source": [
    "```Densidad de riesgo alta ```"
   ]
  },
  {
   "cell_type": "code",
   "execution_count": 21,
   "metadata": {},
   "outputs": [],
   "source": [
    "for i in range(0, bt_vs_pd.shape[0]):\n",
    "    fila = bt_vs_pd.iloc[i];\n",
    "    if (fila[\"instancia\"].find(\"DensidadAlta\") >= 0):\n",
    "        experimentos.append([fila[\"dataset\"] + \"-DRA\", fila[\"n\"], fila[\"W\"], \"BT\", fila[\"archivo\"]]);\n",
    "        experimentos.append([fila[\"dataset\"] + \"-DRA\", fila[\"n\"], fila[\"W\"], \"DP\", fila[\"archivo\"]]);\n",
    "        experimentos.append([fila[\"dataset\"] + \"-DRA\", fila[\"n\"], fila[\"W\"], \"BT-O\", fila[\"archivo\"]]);"
   ]
  },
  {
   "cell_type": "markdown",
   "metadata": {},
   "source": [
    "## Ejecutar los experimentos y guardar los resultados en un archivo CSV.\n",
    "Este paso puede tardar unos minutos hasta terminar de ejecutarse."
   ]
  },
  {
   "cell_type": "code",
   "execution_count": 22,
   "metadata": {},
   "outputs": [
    {
     "data": {
      "text/plain": [
       "'Experimento: 270/270'"
      ]
     },
     "metadata": {},
     "output_type": "display_data"
    },
    {
     "name": "stdout",
     "output_type": "stream",
     "text": [
      "[['BTvsPD-DRB', 1, 1, 'BT', 0.001719], ['BTvsPD-DRB', 1, 1, 'DP', 0.001302], ['BTvsPD-DRB', 1, 1, 'BT-F', 0.000999], ['BTvsPD-DRB', 2, 1, 'BT', 0.001088], ['BTvsPD-DRB', 2, 1, 'DP', 0.001379], ['BTvsPD-DRB', 2, 1, 'BT-F', 0.001017], ['BTvsPD-DRB', 3, 1, 'BT', 0.001543], ['BTvsPD-DRB', 3, 1, 'DP', 0.001443], ['BTvsPD-DRB', 3, 1, 'BT-F', 0.001116], ['BTvsPD-DRB', 4, 2, 'BT', 0.001345], ['BTvsPD-DRB', 4, 2, 'DP', 0.001568], ['BTvsPD-DRB', 4, 2, 'BT-F', 0.001158], ['BTvsPD-DRB', 5, 2, 'BT', 0.001333], ['BTvsPD-DRB', 5, 2, 'DP', 0.001637], ['BTvsPD-DRB', 5, 2, 'BT-F', 0.001455], ['BTvsPD-DRB', 6, 3, 'BT', 0.001618], ['BTvsPD-DRB', 6, 3, 'DP', 0.002007], ['BTvsPD-DRB', 6, 3, 'BT-F', 0.001391], ['BTvsPD-DRB', 7, 3, 'BT', 0.001483], ['BTvsPD-DRB', 7, 3, 'DP', 0.001698], ['BTvsPD-DRB', 7, 3, 'BT-F', 0.001491], ['BTvsPD-DRB', 8, 4, 'BT', 0.00168], ['BTvsPD-DRB', 8, 4, 'DP', 0.001908], ['BTvsPD-DRB', 8, 4, 'BT-F', 0.001653], ['BTvsPD-DRB', 9, 4, 'BT', 0.001627], ['BTvsPD-DRB', 9, 4, 'DP', 0.002157], ['BTvsPD-DRB', 9, 4, 'BT-F', 0.001831], ['BTvsPD-DRB', 10, 5, 'BT', 0.002178], ['BTvsPD-DRB', 10, 5, 'DP', 0.00236], ['BTvsPD-DRB', 10, 5, 'BT-F', 0.00224], ['BTvsPD-DRB', 11, 5, 'BT', 0.001836], ['BTvsPD-DRB', 11, 5, 'DP', 0.002594], ['BTvsPD-DRB', 11, 5, 'BT-F', 0.002708], ['BTvsPD-DRB', 12, 6, 'BT', 0.002512], ['BTvsPD-DRB', 12, 6, 'DP', 0.003023], ['BTvsPD-DRB', 12, 6, 'BT-F', 0.003455], ['BTvsPD-DRB', 13, 6, 'BT', 0.002294], ['BTvsPD-DRB', 13, 6, 'DP', 0.004711], ['BTvsPD-DRB', 13, 6, 'BT-F', 0.00461], ['BTvsPD-DRB', 14, 7, 'BT', 0.003457], ['BTvsPD-DRB', 14, 7, 'DP', 0.00506], ['BTvsPD-DRB', 14, 7, 'BT-F', 0.00656], ['BTvsPD-DRB', 15, 7, 'BT', 0.003202], ['BTvsPD-DRB', 15, 7, 'DP', 0.005177], ['BTvsPD-DRB', 15, 7, 'BT-F', 0.009734], ['BTvsPD-DRB', 16, 8, 'BT', 0.004913], ['BTvsPD-DRB', 16, 8, 'DP', 0.005792], ['BTvsPD-DRB', 16, 8, 'BT-F', 0.014861], ['BTvsPD-DRB', 17, 8, 'BT', 0.005123], ['BTvsPD-DRB', 17, 8, 'DP', 0.006681], ['BTvsPD-DRB', 17, 8, 'BT-F', 0.022681], ['BTvsPD-DRB', 18, 9, 'BT', 0.008396], ['BTvsPD-DRB', 18, 9, 'DP', 0.008291], ['BTvsPD-DRB', 18, 9, 'BT-F', 0.035817], ['BTvsPD-DRB', 19, 9, 'BT', 0.008185], ['BTvsPD-DRB', 19, 9, 'DP', 0.009081], ['BTvsPD-DRB', 19, 9, 'BT-F', 0.056788], ['BTvsPD-DRB', 20, 10, 'BT', 0.014967], ['BTvsPD-DRB', 20, 10, 'DP', 0.009642], ['BTvsPD-DRB', 20, 10, 'BT-F', 0.090747], ['BTvsPD-DRB', 21, 10, 'BT', 0.014834], ['BTvsPD-DRB', 21, 10, 'DP', 0.010216], ['BTvsPD-DRB', 21, 10, 'BT-F', 0.144873], ['BTvsPD-DRB', 22, 11, 'BT', 0.028247], ['BTvsPD-DRB', 22, 11, 'DP', 0.012429], ['BTvsPD-DRB', 22, 11, 'BT-F', 0.236939], ['BTvsPD-DRB', 23, 11, 'BT', 0.027859], ['BTvsPD-DRB', 23, 11, 'DP', 0.013158], ['BTvsPD-DRB', 23, 11, 'BT-F', 0.373776], ['BTvsPD-DRB', 24, 12, 'BT', 0.054403], ['BTvsPD-DRB', 24, 12, 'DP', 0.016187], ['BTvsPD-DRB', 24, 12, 'BT-F', 0.611369], ['BTvsPD-DRB', 25, 12, 'BT', 0.053985], ['BTvsPD-DRB', 25, 12, 'DP', 0.017306], ['BTvsPD-DRB', 25, 12, 'BT-F', 0.989816], ['BTvsPD-DRB', 26, 13, 'BT', 0.106752], ['BTvsPD-DRB', 26, 13, 'DP', 0.019177], ['BTvsPD-DRB', 26, 13, 'BT-F', 1.58227], ['BTvsPD-DRB', 27, 13, 'BT', 0.106311], ['BTvsPD-DRB', 27, 13, 'DP', 0.020057], ['BTvsPD-DRB', 27, 13, 'BT-F', 2.55946], ['BTvsPD-DRB', 28, 14, 'BT', 0.206017], ['BTvsPD-DRB', 28, 14, 'DP', 0.023577], ['BTvsPD-DRB', 28, 14, 'BT-F', 4.17261], ['BTvsPD-DRB', 29, 14, 'BT', 0.211079], ['BTvsPD-DRB', 29, 14, 'DP', 0.025108], ['BTvsPD-DRB', 29, 14, 'BT-F', 6.73578], ['BTvsPD-DRB', 30, 15, 'BT', 0.410047], ['BTvsPD-DRB', 30, 15, 'DP', 0.027381], ['BTvsPD-DRB', 30, 15, 'BT-F', 10.8352], ['BTvsPD-DRB', 31, 15, 'BT', 0.409821], ['BTvsPD-DRB', 31, 15, 'DP', 0.029295], ['BTvsPD-DRB', 31, 15, 'BT-F', 17.2873], ['BTvsPD-DRB', 32, 16, 'BT', 0.82105], ['BTvsPD-DRB', 32, 16, 'DP', 0.031939], ['BTvsPD-DRB', 32, 16, 'BT-F', 28.051], ['BTvsPD-DRB', 33, 16, 'BT', 0.831603], ['BTvsPD-DRB', 33, 16, 'DP', 0.033373], ['BTvsPD-DRB', 33, 16, 'BT-F', 45.4705], ['BTvsPD-DRB', 34, 17, 'BT', 1.69773], ['BTvsPD-DRB', 34, 17, 'DP', 0.035837], ['BTvsPD-DRB', 34, 17, 'BT-F', 73.9807], ['BTvsPD-DRB', 35, 17, 'BT', 1.67019], ['BTvsPD-DRB', 35, 17, 'DP', 0.039866], ['BTvsPD-DRB', 35, 17, 'BT-F', 118.785], ['BTvsPD-DRB', 36, 18, 'BT', 3.32332], ['BTvsPD-DRB', 36, 18, 'DP', 0.042729], ['BTvsPD-DRB', 36, 18, 'BT-F', 191.46], ['BTvsPD-DRB', 37, 18, 'BT', 3.36135], ['BTvsPD-DRB', 37, 18, 'DP', 0.046306], ['BTvsPD-DRB', 37, 18, 'BT-F', 308.6], ['BTvsPD-DRB', 38, 19, 'BT', 6.72859], ['BTvsPD-DRB', 38, 19, 'DP', 0.050031], ['BTvsPD-DRB', 38, 19, 'BT-F', 498.672], ['BTvsPD-DRB', 39, 19, 'BT', 6.81274], ['BTvsPD-DRB', 39, 19, 'DP', 0.052642], ['BTvsPD-DRB', 39, 19, 'BT-F', 817.353], ['BTvsPD-DRB', 40, 20, 'BT', 13.3459], ['BTvsPD-DRB', 40, 20, 'DP', 0.057389], ['BTvsPD-DRB', 40, 20, 'BT-F', 1309.36], ['BTvsPD-DRB', 41, 20, 'BT', 13.6111], ['BTvsPD-DRB', 41, 20, 'DP', 0.062287], ['BTvsPD-DRB', 41, 20, 'BT-F', 2144.77], ['BTvsPD-DRB', 42, 21, 'BT', 26.7116], ['BTvsPD-DRB', 42, 21, 'DP', 0.065704], ['BTvsPD-DRB', 42, 21, 'BT-F', 3463.86], ['BTvsPD-DRB', 43, 21, 'BT', 26.6836], ['BTvsPD-DRB', 43, 21, 'DP', 0.069983], ['BTvsPD-DRB', 43, 21, 'BT-F', 5603.04], ['BTvsPD-DRB', 44, 22, 'BT', 54.1382], ['BTvsPD-DRB', 44, 22, 'DP', 0.073783], ['BTvsPD-DRB', 44, 22, 'BT-F', 9101.71], ['BTvsPD-DRB', 45, 22, 'BT', 53.645], ['BTvsPD-DRB', 45, 22, 'DP', 0.078163], ['BTvsPD-DRB', 45, 22, 'BT-F', 14866.0], ['BTvsPD-DRA', 1, 1, 'BT', 0.001098], ['BTvsPD-DRA', 1, 1, 'DP', 0.001264], ['BTvsPD-DRA', 1, 1, 'BT-O', 0.001157], ['BTvsPD-DRA', 2, 1, 'BT', 0.001149], ['BTvsPD-DRA', 2, 1, 'DP', 0.001345], ['BTvsPD-DRA', 2, 1, 'BT-O', 0.001153], ['BTvsPD-DRA', 3, 1, 'BT', 0.00121], ['BTvsPD-DRA', 3, 1, 'DP', 0.001415], ['BTvsPD-DRA', 3, 1, 'BT-O', 0.001246], ['BTvsPD-DRA', 4, 2, 'BT', 0.001282], ['BTvsPD-DRA', 4, 2, 'DP', 0.001477], ['BTvsPD-DRA', 4, 2, 'BT-O', 0.001355], ['BTvsPD-DRA', 5, 2, 'BT', 0.00131], ['BTvsPD-DRA', 5, 2, 'DP', 0.001532], ['BTvsPD-DRA', 5, 2, 'BT-O', 0.001361], ['BTvsPD-DRA', 6, 3, 'BT', 0.001385], ['BTvsPD-DRA', 6, 3, 'DP', 0.001545], ['BTvsPD-DRA', 6, 3, 'BT-O', 0.001519], ['BTvsPD-DRA', 7, 3, 'BT', 0.001366], ['BTvsPD-DRA', 7, 3, 'DP', 0.001554], ['BTvsPD-DRA', 7, 3, 'BT-O', 0.001621], ['BTvsPD-DRA', 8, 4, 'BT', 0.001425], ['BTvsPD-DRA', 8, 4, 'DP', 0.001581], ['BTvsPD-DRA', 8, 4, 'BT-O', 0.001766], ['BTvsPD-DRA', 9, 4, 'BT', 0.00151], ['BTvsPD-DRA', 9, 4, 'DP', 0.001641], ['BTvsPD-DRA', 9, 4, 'BT-O', 0.002005], ['BTvsPD-DRA', 10, 5, 'BT', 0.001673], ['BTvsPD-DRA', 10, 5, 'DP', 0.001804], ['BTvsPD-DRA', 10, 5, 'BT-O', 0.002328], ['BTvsPD-DRA', 11, 5, 'BT', 0.001665], ['BTvsPD-DRA', 11, 5, 'DP', 0.001903], ['BTvsPD-DRA', 11, 5, 'BT-O', 0.002993], ['BTvsPD-DRA', 12, 6, 'BT', 0.001898], ['BTvsPD-DRA', 12, 6, 'DP', 0.001975], ['BTvsPD-DRA', 12, 6, 'BT-O', 0.003579], ['BTvsPD-DRA', 13, 6, 'BT', 0.001903], ['BTvsPD-DRA', 13, 6, 'DP', 0.001954], ['BTvsPD-DRA', 13, 6, 'BT-O', 0.005019], ['BTvsPD-DRA', 14, 7, 'BT', 0.002176], ['BTvsPD-DRA', 14, 7, 'DP', 0.002062], ['BTvsPD-DRA', 14, 7, 'BT-O', 0.007002], ['BTvsPD-DRA', 15, 7, 'BT', 0.002303], ['BTvsPD-DRA', 15, 7, 'DP', 0.002071], ['BTvsPD-DRA', 15, 7, 'BT-O', 0.010342], ['BTvsPD-DRA', 16, 8, 'BT', 0.002664], ['BTvsPD-DRA', 16, 8, 'DP', 0.00225], ['BTvsPD-DRA', 16, 8, 'BT-O', 0.015572], ['BTvsPD-DRA', 17, 8, 'BT', 0.002697], ['BTvsPD-DRA', 17, 8, 'DP', 0.002278], ['BTvsPD-DRA', 17, 8, 'BT-O', 0.024026], ['BTvsPD-DRA', 18, 9, 'BT', 0.002979], ['BTvsPD-DRA', 18, 9, 'DP', 0.002445], ['BTvsPD-DRA', 18, 9, 'BT-O', 0.037248], ['BTvsPD-DRA', 19, 9, 'BT', 0.003199], ['BTvsPD-DRA', 19, 9, 'DP', 0.002677], ['BTvsPD-DRA', 19, 9, 'BT-O', 0.059302], ['BTvsPD-DRA', 20, 10, 'BT', 0.00379], ['BTvsPD-DRA', 20, 10, 'DP', 0.00279], ['BTvsPD-DRA', 20, 10, 'BT-O', 0.094493], ['BTvsPD-DRA', 21, 10, 'BT', 0.003887], ['BTvsPD-DRA', 21, 10, 'DP', 0.002688], ['BTvsPD-DRA', 21, 10, 'BT-O', 0.151389], ['BTvsPD-DRA', 22, 11, 'BT', 0.004766], ['BTvsPD-DRA', 22, 11, 'DP', 0.002905], ['BTvsPD-DRA', 22, 11, 'BT-O', 0.247322], ['BTvsPD-DRA', 23, 11, 'BT', 0.00504], ['BTvsPD-DRA', 23, 11, 'DP', 0.002959], ['BTvsPD-DRA', 23, 11, 'BT-O', 0.392421], ['BTvsPD-DRA', 24, 12, 'BT', 0.005986], ['BTvsPD-DRA', 24, 12, 'DP', 0.004265], ['BTvsPD-DRA', 24, 12, 'BT-O', 0.633505], ['BTvsPD-DRA', 25, 12, 'BT', 0.00632], ['BTvsPD-DRA', 25, 12, 'DP', 0.004642], ['BTvsPD-DRA', 25, 12, 'BT-O', 1.02316], ['BTvsPD-DRA', 26, 13, 'BT', 0.007843], ['BTvsPD-DRA', 26, 13, 'DP', 0.004579], ['BTvsPD-DRA', 26, 13, 'BT-O', 1.65905], ['BTvsPD-DRA', 27, 13, 'BT', 0.00804], ['BTvsPD-DRA', 27, 13, 'DP', 0.004645], ['BTvsPD-DRA', 27, 13, 'BT-O', 2.69128], ['BTvsPD-DRA', 28, 14, 'BT', 0.00944], ['BTvsPD-DRA', 28, 14, 'DP', 0.004844], ['BTvsPD-DRA', 28, 14, 'BT-O', 4.29175], ['BTvsPD-DRA', 29, 14, 'BT', 0.009885], ['BTvsPD-DRA', 29, 14, 'DP', 0.0048], ['BTvsPD-DRA', 29, 14, 'BT-O', 7.00122], ['BTvsPD-DRA', 30, 15, 'BT', 0.012206], ['BTvsPD-DRA', 30, 15, 'DP', 0.005141], ['BTvsPD-DRA', 30, 15, 'BT-O', 11.3251], ['BTvsPD-DRA', 31, 15, 'BT', 0.01236], ['BTvsPD-DRA', 31, 15, 'DP', 0.005111], ['BTvsPD-DRA', 31, 15, 'BT-O', 18.1807], ['BTvsPD-DRA', 32, 16, 'BT', 0.014515], ['BTvsPD-DRA', 32, 16, 'DP', 0.005518], ['BTvsPD-DRA', 32, 16, 'BT-O', 29.5499], ['BTvsPD-DRA', 33, 16, 'BT', 0.015037], ['BTvsPD-DRA', 33, 16, 'DP', 0.005449], ['BTvsPD-DRA', 33, 16, 'BT-O', 47.143], ['BTvsPD-DRA', 34, 17, 'BT', 0.017881], ['BTvsPD-DRA', 34, 17, 'DP', 0.005717], ['BTvsPD-DRA', 34, 17, 'BT-O', 76.2592], ['BTvsPD-DRA', 35, 17, 'BT', 0.018269], ['BTvsPD-DRA', 35, 17, 'DP', 0.005742], ['BTvsPD-DRA', 35, 17, 'BT-O', 123.59], ['BTvsPD-DRA', 36, 18, 'BT', 0.02254], ['BTvsPD-DRA', 36, 18, 'DP', 0.006108], ['BTvsPD-DRA', 36, 18, 'BT-O', 200.562], ['BTvsPD-DRA', 37, 18, 'BT', 0.023828], ['BTvsPD-DRA', 37, 18, 'DP', 0.006056], ['BTvsPD-DRA', 37, 18, 'BT-O', 323.125], ['BTvsPD-DRA', 38, 19, 'BT', 0.02781], ['BTvsPD-DRA', 38, 19, 'DP', 0.006259], ['BTvsPD-DRA', 38, 19, 'BT-O', 523.457], ['BTvsPD-DRA', 39, 19, 'BT', 0.028835], ['BTvsPD-DRA', 39, 19, 'DP', 0.006448], ['BTvsPD-DRA', 39, 19, 'BT-O', 861.626], ['BTvsPD-DRA', 40, 20, 'BT', 0.034533], ['BTvsPD-DRA', 40, 20, 'DP', 0.006963], ['BTvsPD-DRA', 40, 20, 'BT-O', 1367.51], ['BTvsPD-DRA', 41, 20, 'BT', 0.035476], ['BTvsPD-DRA', 41, 20, 'DP', 0.006812], ['BTvsPD-DRA', 41, 20, 'BT-O', 2210.46], ['BTvsPD-DRA', 42, 21, 'BT', 0.042424], ['BTvsPD-DRA', 42, 21, 'DP', 0.006988], ['BTvsPD-DRA', 42, 21, 'BT-O', 3591.89], ['BTvsPD-DRA', 43, 21, 'BT', 0.042675], ['BTvsPD-DRA', 43, 21, 'DP', 0.008335], ['BTvsPD-DRA', 43, 21, 'BT-O', 5806.68], ['BTvsPD-DRA', 44, 22, 'BT', 0.051999], ['BTvsPD-DRA', 44, 22, 'DP', 0.008433], ['BTvsPD-DRA', 44, 22, 'BT-O', 9431.8], ['BTvsPD-DRA', 45, 22, 'BT', 0.053544], ['BTvsPD-DRA', 45, 22, 'DP', 0.00847], ['BTvsPD-DRA', 45, 22, 'BT-O', 15201.3]]\n"
     ]
    }
   ],
   "source": [
    "columnas = [\"dataset\", \"n\", \"W\", \"metodo\", \"tiempo\"];\n",
    "filas = [];\n",
    "numero = 1\n",
    "T = 5 # Numero de veces que se ejecuta cada experimento (para mayor fidelidad del tiempo).\n",
    "#print(experimentos)\n",
    "for experimento in experimentos:\n",
    "    # Voy mostrando que experimento se esta ejecutando.\n",
    "    clear_output(wait=True)\n",
    "    display('Experimento: ' + str(numero) + \"/\" + str(len(experimentos)))\n",
    "    numero += 1\n",
    "    \n",
    "    # Ejecutamos el experimento T veces y obtenemos la mediana.\n",
    "    tiempos = []\n",
    "    for i in range(0, T):\n",
    "        #print(experimento[3])\n",
    "        tiempos.append(correr_experimento(experimento[3], experimento[4]));\n",
    "    tiempo = np.median(tiempos);\n",
    "    filas.append([experimento[0], experimento[1], experimento[2], experimento[3], tiempo]);\n",
    "    print(filas)\n",
    "df_resultado = pd.DataFrame(filas, columns=columnas);\n",
    "df_resultado.to_csv(\"resultados/resultado.csv\", index=False, header=True);"
   ]
  },
  {
   "cell_type": "code",
   "execution_count": null,
   "metadata": {},
   "outputs": [],
   "source": []
  }
 ],
 "metadata": {
  "kernelspec": {
   "display_name": "Python 3",
   "language": "python",
   "name": "python3"
  },
  "language_info": {
   "codemirror_mode": {
    "name": "ipython",
    "version": 3
   },
   "file_extension": ".py",
   "mimetype": "text/x-python",
   "name": "python",
   "nbconvert_exporter": "python",
   "pygments_lexer": "ipython3",
   "version": "3.7.6"
  }
 },
 "nbformat": 4,
 "nbformat_minor": 4
}
