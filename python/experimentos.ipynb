{
 "cells": [
  {
   "cell_type": "markdown",
   "metadata": {},
   "source": [
    "# Correr experimentos\n",
    "En este archivo está el código para correr los experimentos y escribir los resultados en archivos CSV.\n",
    "> Los archivos se guardan en la carpeta _resultados_."
   ]
  },
  {
   "cell_type": "code",
   "execution_count": 31,
   "metadata": {},
   "outputs": [],
   "source": [
    "import math, subprocess\n",
    "import pandas as pd\n",
    "import numpy as np\n",
    "from IPython.display import display, clear_output"
   ]
  },
  {
   "cell_type": "markdown",
   "metadata": {},
   "source": [
    "A continuación leemos los datasets en dataframes de Pandas."
   ]
  },
  {
   "cell_type": "code",
   "execution_count": 32,
   "metadata": {},
   "outputs": [],
   "source": [
    "def leer_instancia(path_instancia):\n",
    "    with open(path_instancia, \"r\") as f:\n",
    "        return f.read();\n",
    "\n",
    "#df_densidad_alta = pd.read_csv(\"instancias/densidad-alta/indice.csv\");\n",
    "#df_densidad_baja = pd.read_csv(\"instancias/densidad-baja/indice.csv\");\n",
    "#df_mejor_caso_bt = pd.read_csv(\"instancias/mejor-caso-bt/indice.csv\");\n",
    "#df_peor_caso_bt = pd.read_csv(\"instancias/peor-caso-bt/indice.csv\");\n",
    "#df_dinamica = pd.read_csv(\"instancias/dinamica/indice.csv\");\n",
    "bt_podas = pd.read_csv(\"instancias/podas-BT/indice.csv\");\n",
    "bt_vs_pd = pd.read_csv(\"instancias/BTvsPD/indice.csv\");"
   ]
  },
  {
   "cell_type": "markdown",
   "metadata": {},
   "source": [
    "La siguiente función sirve para correr el código sobre una instancia ejecutando un método en particular.\n",
    "- FB: Fuerza bruta\n",
    "- BT: Backtracking con ambas podas.\n",
    "- BT-F: Backtracking solamente con poda por factibilidad.\n",
    "- BT-O: Backtracking solamente con poda por optimalidad.\n",
    "- DP: Programación dinámica."
   ]
  },
  {
   "cell_type": "code",
   "execution_count": 33,
   "metadata": {},
   "outputs": [],
   "source": [
    "# Devuelve el tiempo de ejecucion\n",
    "def correr_experimento(metodo, archivo_instancia): #archivo_instancia es el PATH al test.\n",
    "    # Leer archivo de la instancia.\n",
    "    instancia = leer_instancia(archivo_instancia)\n",
    "    \n",
    "    # Crear proceso para ejecutar el codigo.\n",
    "    process = subprocess.Popen([\"../social_distancing\", metodo], stderr=subprocess.PIPE, stdout=subprocess.PIPE, stdin=subprocess.PIPE, universal_newlines = True)\n",
    "\n",
    "    # Poner la instancia en la entrada estandar. OKEY. ACA. \n",
    "    process.stdin.write(instancia)\n",
    "    process.stdin.flush()\n",
    "\n",
    "    # Correr experimento.\n",
    "    exit_code = process.wait()\n",
    "\n",
    "    # Verificar que el proceso no fallo.\n",
    "    if exit_code != 0: raise(F\"Hubo un error en la experimentacion para el algoritmo: {algoritmo} con la instancia {archivo_instancia}.\")\n",
    "    # Leer salida de STDERR con los tiempos de ejecucion de cada metodo.\n",
    "    tiempo_de_ejecucion = float(process.stderr.read());\n",
    "    \n",
    "    process.stdin.close();\n",
    "    process.stdout.close();\n",
    "    process.stderr.close();\n",
    "    \n",
    "    return tiempo_de_ejecucion;"
   ]
  },
  {
   "cell_type": "markdown",
   "metadata": {},
   "source": [
    "## Corremos los experimentos\n",
    "Vamos a guardar una tabla con las ejecuciones y sus respectivos tiempos."
   ]
  },
  {
   "cell_type": "code",
   "execution_count": 34,
   "metadata": {},
   "outputs": [],
   "source": [
    "experimentos = [];"
   ]
  },
  {
   "cell_type": "markdown",
   "metadata": {},
   "source": [
    "### Experimento 1\n",
    "Correr Fuerza Bruta en las primeras 30 instancias de densidad-alta y densidad-baja.\n",
    "\n",
    "Mio: Correr FB de la instancia 30 a la 60 de ambas densidades."
   ]
  },
  {
   "cell_type": "code",
   "execution_count": 11,
   "metadata": {},
   "outputs": [],
   "source": [
    "for n in range(10, 35):\n",
    "    fila_n = df_densidad_alta.iloc[n];\n",
    "    experimentos.append([fila_n[\"dataset\"], n, fila_n[\"W\"], \"FB\", fila_n[\"archivo\"]]);\n",
    "\n",
    "for n in range(10, 35):\n",
    "    fila_n = df_densidad_baja.iloc[n];\n",
    "    experimentos.append([fila_n[\"dataset\"], n, fila_n[\"W\"], \"FB\", fila_n[\"archivo\"]]);"
   ]
  },
  {
   "cell_type": "markdown",
   "metadata": {},
   "source": [
    "## Experimento 2\n",
    "Correr BT para mejor y peor caso."
   ]
  },
  {
   "cell_type": "code",
   "execution_count": 23,
   "metadata": {},
   "outputs": [],
   "source": [
    "for n in range(0, df_mejor_caso_bt.shape[0]):\n",
    "    fila_n = df_mejor_caso_bt.iloc[n];\n",
    "    experimentos.append([fila_n[\"dataset\"], n, fila_n[\"W\"], \"BT\", fila_n[\"archivo\"]]);\n",
    "\n",
    "#for n in range(0, df_peor_caso_bt.shape[0]):\n",
    " #   fila_n = df_peor_caso_bt.iloc[n];\n",
    "  #  experimentos.append([fila_n[\"dataset\"], n, fila_n[\"W\"], \"BT\", fila_n[\"archivo\"]]);"
   ]
  },
  {
   "cell_type": "markdown",
   "metadata": {},
   "source": [
    "## Experimento 3\n",
    "Correr BT, BT-F, BT-O para densidad alta y baja."
   ]
  },
  {
   "cell_type": "code",
   "execution_count": null,
   "metadata": {},
   "outputs": [],
   "source": [
    "for n in range(0, df_densidad_alta.shape[0]):\n",
    "    fila_n = df_densidad_alta.iloc[n];\n",
    "    experimentos.append([fila_n[\"dataset\"], n, fila_n[\"W\"], \"BT\", fila_n[\"archivo\"]]);\n",
    "    experimentos.append([fila_n[\"dataset\"], n, fila_n[\"W\"], \"BT-F\", fila_n[\"archivo\"]]);\n",
    "    experimentos.append([fila_n[\"dataset\"], n, fila_n[\"W\"], \"BT-O\", fila_n[\"archivo\"]]);\n",
    "\n",
    "for n in range(0, 30):\n",
    "    fila_n = df_densidad_baja.iloc[n];\n",
    "    experimentos.append([fila_n[\"dataset\"], n, fila_n[\"W\"], \"BT\", fila_n[\"archivo\"]]);\n",
    "    experimentos.append([fila_n[\"dataset\"], n, fila_n[\"W\"], \"BT-F\", fila_n[\"archivo\"]]);\n",
    "    experimentos.append([fila_n[\"dataset\"], n, fila_n[\"W\"], \"BT-O\", fila_n[\"archivo\"]]);"
   ]
  },
  {
   "cell_type": "markdown",
   "metadata": {},
   "source": [
    "# Experimento 4\n",
    "Correr DP para el dataset _dinamica_."
   ]
  },
  {
   "cell_type": "code",
   "execution_count": 22,
   "metadata": {},
   "outputs": [],
   "source": [
    "for i in range(0, df_dinamica.shape[0]):\n",
    "    fila = df_dinamica.iloc[i];\n",
    "    experimentos.append([fila[\"dataset\"], fila[\"n\"], fila[\"W\"], \"DP\", fila[\"archivo\"]]);"
   ]
  },
  {
   "cell_type": "markdown",
   "metadata": {},
   "source": [
    "## Experimento 5\n",
    "Correr DP para el dataset densidad-alta y densidad-baja."
   ]
  },
  {
   "cell_type": "code",
   "execution_count": 7,
   "metadata": {},
   "outputs": [
    {
     "ename": "NameError",
     "evalue": "name 'df_densidad_alta' is not defined",
     "output_type": "error",
     "traceback": [
      "\u001b[0;31m---------------------------------------------------------------------------\u001b[0m",
      "\u001b[0;31mNameError\u001b[0m                                 Traceback (most recent call last)",
      "\u001b[0;32m<ipython-input-7-f5cbc0b49d56>\u001b[0m in \u001b[0;36m<module>\u001b[0;34m\u001b[0m\n\u001b[0;32m----> 1\u001b[0;31m \u001b[0;32mfor\u001b[0m \u001b[0mi\u001b[0m \u001b[0;32min\u001b[0m \u001b[0mrange\u001b[0m\u001b[0;34m(\u001b[0m\u001b[0;36m0\u001b[0m\u001b[0;34m,\u001b[0m \u001b[0mdf_densidad_alta\u001b[0m\u001b[0;34m.\u001b[0m\u001b[0mshape\u001b[0m\u001b[0;34m[\u001b[0m\u001b[0;36m0\u001b[0m\u001b[0;34m]\u001b[0m\u001b[0;34m)\u001b[0m\u001b[0;34m:\u001b[0m\u001b[0;34m\u001b[0m\u001b[0;34m\u001b[0m\u001b[0m\n\u001b[0m\u001b[1;32m      2\u001b[0m     \u001b[0mfila\u001b[0m \u001b[0;34m=\u001b[0m \u001b[0mdf_densidad_alta\u001b[0m\u001b[0;34m.\u001b[0m\u001b[0miloc\u001b[0m\u001b[0;34m[\u001b[0m\u001b[0mi\u001b[0m\u001b[0;34m]\u001b[0m\u001b[0;34m;\u001b[0m\u001b[0;34m\u001b[0m\u001b[0;34m\u001b[0m\u001b[0m\n\u001b[1;32m      3\u001b[0m     \u001b[0mexperimentos\u001b[0m\u001b[0;34m.\u001b[0m\u001b[0mappend\u001b[0m\u001b[0;34m(\u001b[0m\u001b[0;34m[\u001b[0m\u001b[0mfila\u001b[0m\u001b[0;34m[\u001b[0m\u001b[0;34m\"dataset\"\u001b[0m\u001b[0;34m]\u001b[0m\u001b[0;34m,\u001b[0m \u001b[0mfila\u001b[0m\u001b[0;34m[\u001b[0m\u001b[0;34m\"n\"\u001b[0m\u001b[0;34m]\u001b[0m\u001b[0;34m,\u001b[0m \u001b[0mfila\u001b[0m\u001b[0;34m[\u001b[0m\u001b[0;34m\"W\"\u001b[0m\u001b[0;34m]\u001b[0m\u001b[0;34m,\u001b[0m \u001b[0;34m\"DP\"\u001b[0m\u001b[0;34m,\u001b[0m \u001b[0mfila\u001b[0m\u001b[0;34m[\u001b[0m\u001b[0;34m\"archivo\"\u001b[0m\u001b[0;34m]\u001b[0m\u001b[0;34m]\u001b[0m\u001b[0;34m)\u001b[0m\u001b[0;34m;\u001b[0m\u001b[0;34m\u001b[0m\u001b[0;34m\u001b[0m\u001b[0m\n\u001b[1;32m      4\u001b[0m \u001b[0;34m\u001b[0m\u001b[0m\n\u001b[1;32m      5\u001b[0m \u001b[0;31m#for i in range(0, df_densidad_baja.shape[0]):\u001b[0m\u001b[0;34m\u001b[0m\u001b[0;34m\u001b[0m\u001b[0;34m\u001b[0m\u001b[0m\n",
      "\u001b[0;31mNameError\u001b[0m: name 'df_densidad_alta' is not defined"
     ]
    }
   ],
   "source": [
    "for i in range(0, df_densidad_alta.shape[0]):\n",
    "    fila = df_densidad_alta.iloc[i];\n",
    "    experimentos.append([fila[\"dataset\"], fila[\"n\"], fila[\"W\"], \"DP\", fila[\"archivo\"]]);\n",
    "\n",
    "#for i in range(0, df_densidad_baja.shape[0]):\n",
    "  #  fila = df_densidad_baja.iloc[i];\n",
    "   # experimentos.append([fila[\"dataset\"], fila[\"n\"], fila[\"W\"], \"DP\", fila[\"archivo\"]]);"
   ]
  },
  {
   "cell_type": "markdown",
   "metadata": {},
   "source": [
    "## Experimento 6\n",
    "Correr BT para las combinaciones de densidad alta/baja con beneficios iguales o dispares."
   ]
  },
  {
   "cell_type": "markdown",
   "metadata": {},
   "source": [
    "```Riesgo Alto - Igual Beneficio ```"
   ]
  },
  {
   "cell_type": "code",
   "execution_count": 8,
   "metadata": {},
   "outputs": [],
   "source": [
    "for i in range(0, bt_podas.shape[0]):\n",
    "    fila = bt_podas.iloc[i];\n",
    "    if (fila[\"instancia\"].find(\"RiesgoAlto-IgualBeneficios\") >= 0):\n",
    "        experimentos.append([fila[\"dataset\"] + \"-RA-BI\", fila[\"n\"], fila[\"W\"], \"BT\", fila[\"archivo\"]]);\n",
    "        experimentos.append([fila[\"dataset\"] + \"-RA-BI\", fila[\"n\"], fila[\"W\"], \"BT-O\", fila[\"archivo\"]]);\n",
    "        experimentos.append([fila[\"dataset\"] + \"-RA-BI\", fila[\"n\"], fila[\"W\"], \"BT-F\", fila[\"archivo\"]]);"
   ]
  },
  {
   "cell_type": "markdown",
   "metadata": {},
   "source": [
    "```Riesgo Alto - Beneficios Desiguales ```"
   ]
  },
  {
   "cell_type": "code",
   "execution_count": 11,
   "metadata": {},
   "outputs": [],
   "source": [
    "for i in range(0, bt_podas.shape[0]):\n",
    "    fila = bt_podas.iloc[i];\n",
    "    if (fila[\"instancia\"].find(\"RiesgoAlto-BeneficiosDesiguales\") >= 0):\n",
    "        experimentos.append([fila[\"dataset\"] + \"-RA-BD\", fila[\"n\"], fila[\"W\"], \"BT\", fila[\"archivo\"]]);\n",
    "        experimentos.append([fila[\"dataset\"] + \"-RA-BD\", fila[\"n\"], fila[\"W\"], \"BT-O\", fila[\"archivo\"]]);\n",
    "        experimentos.append([fila[\"dataset\"] + \"-RA-BD\", fila[\"n\"], fila[\"W\"], \"BT-F\", fila[\"archivo\"]]);"
   ]
  },
  {
   "cell_type": "markdown",
   "metadata": {},
   "source": [
    "```Riesgo Bajo - Igual Beneficio ```"
   ]
  },
  {
   "cell_type": "code",
   "execution_count": 14,
   "metadata": {},
   "outputs": [],
   "source": [
    "for i in range(0, bt_podas.shape[0]):\n",
    "    fila = bt_podas.iloc[i];\n",
    "    if (fila[\"instancia\"].find(\"RiesgoBajo-IgualBeneficios\") >= 0):\n",
    "        experimentos.append([fila[\"dataset\"] + \"-RB-BI\", fila[\"n\"], fila[\"W\"], \"BT\", fila[\"archivo\"]]);\n",
    "        experimentos.append([fila[\"dataset\"] + \"-RB-BI\", fila[\"n\"], fila[\"W\"], \"BT-O\", fila[\"archivo\"]]);\n",
    "        experimentos.append([fila[\"dataset\"] + \"-RB-BI\", fila[\"n\"], fila[\"W\"], \"BT-F\", fila[\"archivo\"]]);"
   ]
  },
  {
   "cell_type": "markdown",
   "metadata": {},
   "source": [
    "```Riesgo Bajo - Beneficios Desiguales ```"
   ]
  },
  {
   "cell_type": "code",
   "execution_count": 17,
   "metadata": {},
   "outputs": [],
   "source": [
    "for i in range(0, bt_podas.shape[0]):\n",
    "    fila = bt_podas.iloc[i];\n",
    "    if (fila[\"instancia\"].find(\"RiesgoBajo-BeneficiosDesiguales\") >= 0):\n",
    "        experimentos.append([fila[\"dataset\"] + \"-RB-BD\", fila[\"n\"], fila[\"W\"], \"BT\", fila[\"archivo\"]]);\n",
    "        experimentos.append([fila[\"dataset\"] + \"-RB-BD\", fila[\"n\"], fila[\"W\"], \"BT-O\", fila[\"archivo\"]]);\n",
    "        experimentos.append([fila[\"dataset\"] + \"-RB-BD\", fila[\"n\"], fila[\"W\"], \"BT-F\", fila[\"archivo\"]]);"
   ]
  },
  {
   "cell_type": "markdown",
   "metadata": {},
   "source": [
    "## Experimento 7\n",
    "Correr PD y BT en dataset de densidad alta y baja para ver como se comportan dichos algoritmos"
   ]
  },
  {
   "cell_type": "markdown",
   "metadata": {},
   "source": [
    "```Densidad de riesgo baja ```"
   ]
  },
  {
   "cell_type": "code",
   "execution_count": 35,
   "metadata": {},
   "outputs": [],
   "source": [
    "for i in range(0, bt_vs_pd.shape[0]):\n",
    "    fila = bt_vs_pd.iloc[i];\n",
    "    if (fila[\"instancia\"].find(\"DensidadBaja\") >= 0):\n",
    "        experimentos.append([fila[\"dataset\"] + \"-DRB\", fila[\"n\"], fila[\"W\"], \"BT\", fila[\"archivo\"]]);\n",
    "        experimentos.append([fila[\"dataset\"] + \"-DRB\", fila[\"n\"], fila[\"W\"], \"DP\", fila[\"archivo\"]]);\n",
    "        experimentos.append([fila[\"dataset\"] + \"-DRB\", fila[\"n\"], fila[\"W\"], \"BT-F\", fila[\"archivo\"]]);"
   ]
  },
  {
   "cell_type": "markdown",
   "metadata": {},
   "source": [
    "```Densidad de riesgo alta ```"
   ]
  },
  {
   "cell_type": "code",
   "execution_count": 35,
   "metadata": {},
   "outputs": [],
   "source": [
    "for i in range(0, bt_vs_pd.shape[0]):\n",
    "    fila = bt_vs_pd.iloc[i];\n",
    "    if (fila[\"instancia\"].find(\"DensidadAlta\") >= 0):\n",
    "        experimentos.append([fila[\"dataset\"] + \"-DRA\", fila[\"n\"], fila[\"W\"], \"BT\", fila[\"archivo\"]]);\n",
    "        experimentos.append([fila[\"dataset\"] + \"-DRA\", fila[\"n\"], fila[\"W\"], \"DP\", fila[\"archivo\"]]);\n",
    "        experimentos.append([fila[\"dataset\"] + \"-DRA\", fila[\"n\"], fila[\"W\"], \"BT-F\", fila[\"archivo\"]]);"
   ]
  },
  {
   "cell_type": "markdown",
   "metadata": {},
   "source": [
    "## Ejecutar los experimentos y guardar los resultados en un archivo CSV.\n",
    "Este paso puede tardar unos minutos hasta terminar de ejecutarse."
   ]
  },
  {
   "cell_type": "code",
   "execution_count": 36,
   "metadata": {},
   "outputs": [
    {
     "data": {
      "text/plain": [
       "'Experimento: 120/120'"
      ]
     },
     "metadata": {},
     "output_type": "display_data"
    },
    {
     "name": "stdout",
     "output_type": "stream",
     "text": [
      "[['BTvsPD-DRB', 1, 1, 'BT', 0.002444], ['BTvsPD-DRB', 1, 1, 'DP', 0.002765], ['BTvsPD-DRB', 1, 1, 'BT-F', 0.002344], ['BTvsPD-DRB', 2, 1, 'BT', 0.002314], ['BTvsPD-DRB', 2, 1, 'DP', 0.002695], ['BTvsPD-DRB', 2, 1, 'BT-F', 0.002274], ['BTvsPD-DRB', 3, 1, 'BT', 0.002855], ['BTvsPD-DRB', 3, 1, 'DP', 0.003607], ['BTvsPD-DRB', 3, 1, 'BT-F', 0.002294], ['BTvsPD-DRB', 4, 2, 'BT', 0.002795], ['BTvsPD-DRB', 4, 2, 'DP', 0.003066], ['BTvsPD-DRB', 4, 2, 'BT-F', 0.002505], ['BTvsPD-DRB', 5, 2, 'BT', 0.003386], ['BTvsPD-DRB', 5, 2, 'DP', 0.003927], ['BTvsPD-DRB', 5, 2, 'BT-F', 0.002625], ['BTvsPD-DRB', 6, 3, 'BT', 0.002485], ['BTvsPD-DRB', 6, 3, 'DP', 0.004028], ['BTvsPD-DRB', 6, 3, 'BT-F', 0.002494], ['BTvsPD-DRB', 7, 3, 'BT', 0.003066], ['BTvsPD-DRB', 7, 3, 'DP', 0.004559], ['BTvsPD-DRB', 7, 3, 'BT-F', 0.003216], ['BTvsPD-DRB', 8, 4, 'BT', 0.003907], ['BTvsPD-DRB', 8, 4, 'DP', 0.004338], ['BTvsPD-DRB', 8, 4, 'BT-F', 0.003607], ['BTvsPD-DRB', 9, 4, 'BT', 0.003096], ['BTvsPD-DRB', 9, 4, 'DP', 0.0049], ['BTvsPD-DRB', 9, 4, 'BT-F', 0.002575], ['BTvsPD-DRB', 10, 5, 'BT', 0.004539], ['BTvsPD-DRB', 10, 5, 'DP', 0.005551], ['BTvsPD-DRB', 10, 5, 'BT-F', 0.00489], ['BTvsPD-DRB', 11, 5, 'BT', 0.003978], ['BTvsPD-DRB', 11, 5, 'DP', 0.006081], ['BTvsPD-DRB', 11, 5, 'BT-F', 0.005701], ['BTvsPD-DRB', 12, 6, 'BT', 0.005901], ['BTvsPD-DRB', 12, 6, 'DP', 0.006582], ['BTvsPD-DRB', 12, 6, 'BT-F', 0.007314], ['BTvsPD-DRB', 13, 6, 'BT', 0.004969], ['BTvsPD-DRB', 13, 6, 'DP', 0.008295], ['BTvsPD-DRB', 13, 6, 'BT-F', 0.010109], ['BTvsPD-DRB', 14, 7, 'BT', 0.006483], ['BTvsPD-DRB', 14, 7, 'DP', 0.01053], ['BTvsPD-DRB', 14, 7, 'BT-F', 0.017624], ['BTvsPD-DRB', 15, 7, 'BT', 0.006503], ['BTvsPD-DRB', 15, 7, 'DP', 0.011713], ['BTvsPD-DRB', 15, 7, 'BT-F', 0.018866], ['BTvsPD-DRB', 16, 8, 'BT', 0.005992], ['BTvsPD-DRB', 16, 8, 'DP', 0.011692], ['BTvsPD-DRB', 16, 8, 'BT-F', 0.024998], ['BTvsPD-DRB', 17, 8, 'BT', 0.011703], ['BTvsPD-DRB', 17, 8, 'DP', 0.009458], ['BTvsPD-DRB', 17, 8, 'BT-F', 0.039064], ['BTvsPD-DRB', 18, 9, 'BT', 0.01608], ['BTvsPD-DRB', 18, 9, 'DP', 0.015941], ['BTvsPD-DRB', 18, 9, 'BT-F', 0.06313], ['BTvsPD-DRB', 19, 9, 'BT', 0.014187], ['BTvsPD-DRB', 19, 9, 'DP', 0.019037], ['BTvsPD-DRB', 19, 9, 'BT-F', 0.10515], ['BTvsPD-DRB', 20, 10, 'BT', 0.025849], ['BTvsPD-DRB', 20, 10, 'DP', 0.018876], ['BTvsPD-DRB', 20, 10, 'BT-F', 0.150447], ['BTvsPD-DRB', 21, 10, 'BT', 0.027142], ['BTvsPD-DRB', 21, 10, 'DP', 0.022403], ['BTvsPD-DRB', 21, 10, 'BT-F', 0.273471], ['BTvsPD-DRB', 22, 11, 'BT', 0.056587], ['BTvsPD-DRB', 22, 11, 'DP', 0.023975], ['BTvsPD-DRB', 22, 11, 'BT-F', 0.416263], ['BTvsPD-DRB', 23, 11, 'BT', 0.053893], ['BTvsPD-DRB', 23, 11, 'DP', 0.025639], ['BTvsPD-DRB', 23, 11, 'BT-F', 0.626594], ['BTvsPD-DRB', 24, 12, 'BT', 0.107284], ['BTvsPD-DRB', 24, 12, 'DP', 0.040197], ['BTvsPD-DRB', 24, 12, 'BT-F', 1.05801], ['BTvsPD-DRB', 25, 12, 'BT', 0.100131], ['BTvsPD-DRB', 25, 12, 'DP', 0.033835], ['BTvsPD-DRB', 25, 12, 'BT-F', 1.73342], ['BTvsPD-DRB', 26, 13, 'BT', 0.182378], ['BTvsPD-DRB', 26, 13, 'DP', 0.038894], ['BTvsPD-DRB', 26, 13, 'BT-F', 1.4813], ['BTvsPD-DRB', 27, 13, 'BT', 0.203678], ['BTvsPD-DRB', 27, 13, 'DP', 0.043262], ['BTvsPD-DRB', 27, 13, 'BT-F', 4.64029], ['BTvsPD-DRB', 28, 14, 'BT', 0.419279], ['BTvsPD-DRB', 28, 14, 'DP', 0.051187], ['BTvsPD-DRB', 28, 14, 'BT-F', 3.75438], ['BTvsPD-DRB', 29, 14, 'BT', 0.37775], ['BTvsPD-DRB', 29, 14, 'DP', 0.043703], ['BTvsPD-DRB', 29, 14, 'BT-F', 9.33677], ['BTvsPD-DRB', 30, 15, 'BT', 0.758055], ['BTvsPD-DRB', 30, 15, 'DP', 0.051107], ['BTvsPD-DRB', 30, 15, 'BT-F', 14.7289], ['BTvsPD-DRB', 31, 15, 'BT', 0.952625], ['BTvsPD-DRB', 31, 15, 'DP', 0.056447], ['BTvsPD-DRB', 31, 15, 'BT-F', 20.0779], ['BTvsPD-DRB', 32, 16, 'BT', 1.48643], ['BTvsPD-DRB', 32, 16, 'DP', 0.071466], ['BTvsPD-DRB', 32, 16, 'BT-F', 30.4899], ['BTvsPD-DRB', 33, 16, 'BT', 1.49819], ['BTvsPD-DRB', 33, 16, 'DP', 0.043303], ['BTvsPD-DRB', 33, 16, 'BT-F', 45.443], ['BTvsPD-DRB', 34, 17, 'BT', 2.98281], ['BTvsPD-DRB', 34, 17, 'DP', 0.063291], ['BTvsPD-DRB', 34, 17, 'BT-F', 71.0159], ['BTvsPD-DRB', 35, 17, 'BT', 3.22998], ['BTvsPD-DRB', 35, 17, 'DP', 0.080885], ['BTvsPD-DRB', 35, 17, 'BT-F', 112.582], ['BTvsPD-DRB', 36, 18, 'BT', 5.68478], ['BTvsPD-DRB', 36, 18, 'DP', 0.074322], ['BTvsPD-DRB', 36, 18, 'BT-F', 178.814], ['BTvsPD-DRB', 37, 18, 'BT', 5.15154], ['BTvsPD-DRB', 37, 18, 'DP', 0.053592], ['BTvsPD-DRB', 37, 18, 'BT-F', 283.907], ['BTvsPD-DRB', 38, 19, 'BT', 10.0561], ['BTvsPD-DRB', 38, 19, 'DP', 0.076356], ['BTvsPD-DRB', 38, 19, 'BT-F', 456.59], ['BTvsPD-DRB', 39, 19, 'BT', 10.2927], ['BTvsPD-DRB', 39, 19, 'DP', 0.119799], ['BTvsPD-DRB', 39, 19, 'BT-F', 735.04], ['BTvsPD-DRB', 40, 20, 'BT', 17.0461], ['BTvsPD-DRB', 40, 20, 'DP', 0.111092], ['BTvsPD-DRB', 40, 20, 'BT-F', 1177.13]]\n"
     ]
    }
   ],
   "source": [
    "columnas = [\"dataset\", \"n\", \"W\", \"metodo\", \"tiempo\"];\n",
    "filas = [];\n",
    "numero = 1\n",
    "T = 5 # Numero de veces que se ejecuta cada experimento (para mayor fidelidad del tiempo).\n",
    "#print(experimentos)\n",
    "for experimento in experimentos:\n",
    "    # Voy mostrando que experimento se esta ejecutando.\n",
    "    clear_output(wait=True)\n",
    "    display('Experimento: ' + str(numero) + \"/\" + str(len(experimentos)))\n",
    "    numero += 1\n",
    "    \n",
    "    # Ejecutamos el experimento T veces y obtenemos la mediana.\n",
    "    tiempos = []\n",
    "    for i in range(0, T):\n",
    "        #print(experimento[3])\n",
    "        tiempos.append(correr_experimento(experimento[3], experimento[4]));\n",
    "    tiempo = np.median(tiempos);\n",
    "    filas.append([experimento[0], experimento[1], experimento[2], experimento[3], tiempo]);\n",
    "    print(filas)\n",
    "df_resultado = pd.DataFrame(filas, columns=columnas);\n",
    "df_resultado.to_csv(\"resultados/resultado.csv\", index=False, header=True);"
   ]
  },
  {
   "cell_type": "code",
   "execution_count": null,
   "metadata": {},
   "outputs": [],
   "source": []
  }
 ],
 "metadata": {
  "kernelspec": {
   "display_name": "Python 3",
   "language": "python",
   "name": "python3"
  },
  "language_info": {
   "codemirror_mode": {
    "name": "ipython",
    "version": 3
   },
   "file_extension": ".py",
   "mimetype": "text/x-python",
   "name": "python",
   "nbconvert_exporter": "python",
   "pygments_lexer": "ipython3",
   "version": "3.7.6"
  }
 },
 "nbformat": 4,
 "nbformat_minor": 4
}
